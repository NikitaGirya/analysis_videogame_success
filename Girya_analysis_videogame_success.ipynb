{
 "cells": [
  {
   "cell_type": "markdown",
   "id": "76799f09",
   "metadata": {},
   "source": [
    "# Выявление закономерностей успеха видеоигр\n",
    "\n",
    "---\n",
    "\n",
    "<img src=\"https://mediaproxy.salon.com/width/1200/https://media.salon.com/2020/04/video-game-controller-0403201.jpg\" width=600 height=1000 />\n",
    "\n",
    "---\n",
    "Из открытых источников доступны исторические данные о продажах игр, оценки пользователей и экспертов, жанры и платформы (например, *Xbox* или *PlayStation*). Необходимо выявить определяющие успешность игры закономерности. Это позволит сделать ставку на потенциально популярный продукт и спланировать рекламные кампании.\n",
    "Перед нами данные до 2016 года. Представим, что сейчас декабрь 2016 г., и планируется кампания на 2017-й. Нужно отработать принцип работы с данными. Неважно, прогнозируются ли продажи на 2017 год по данным 2016-го или же 2027-й — по данным 2026 года.\n",
    "\n",
    "*Примечание:* <br/>\n",
    "В наборе данных попадается аббревиатура **ESRB** (*Entertainment Software Rating Board*) — это ассоциация, определяющая возрастной рейтинг компьютерных игр. ESRB оценивает игровой контент и присваивает ему подходящую возрастную категорию, например, «Для взрослых», «Для детей младшего возраста» или «Для подростков».\n",
    "\n",
    "\n",
    "---\n",
    "\n",
    "### Задачи исследования:\n",
    "\n",
    "1. Изучение общей информации о предоставленном датасете <br/> <br/>\n",
    "\n",
    "2. Предобработка данных - замена названий столбцов, приведение к нужным типам, поиск и исправление имеющихся ошибок; расчет и добавление в таблицу суммарных продаж во всех регионах <br/> <br/>\n",
    "\n",
    "3. Проведение исследовательского анализа данных. Поставленные вопросы:\n",
    "\n",
    "    * Важны ли данные за все периоды выпуска игр?\n",
    "    * За какой характерный срок появляются новые и исчезают старые платформы?\n",
    "    * Какие платформы лидируют по продажам, растут или падают?\n",
    "    * Построение боксплота по глобальным продажам игр в разбивке по платформам; описание результата\n",
    "    * Определение влияния на продажи внутри игровой платформы отзывов пользователей и критиков; построение диаграммы рассеяния и расчет корреляции между отзывами и продажами; формулировка выводов; соотношение полученного вывода с продажами игр на других платформах\n",
    "    * Что можно сказать о самых прибыльных жанрах? Выделяются ли жанры с высокими и низкими продажами? <br/> <br/>\n",
    "\n",
    "4. Составление портрета пользователя каждого региона (*NA*, *EU*, *JP*):\n",
    "\n",
    "    * Топ-5 самых популярных платформ\n",
    "    * Топ-5 самых популярных жанров\n",
    "    * Влияет ли рейтинг ESRB на продажи в отдельном регионе? <br/> <br/>\n",
    "\n",
    "5. Проверка гипотез исследования:\n",
    "\n",
    "   * Средние пользовательские рейтинги платформ *Xbox One* и *PC* одинаковые\n",
    "   * Средние пользовательские рейтинги жанров *Action* и *Sports* разные <br/> <br/>\n",
    "\n",
    "6. Формирование общего вывода исследования\n",
    "\n",
    "---\n"
   ]
  },
  {
   "cell_type": "markdown",
   "id": "22d595f3",
   "metadata": {
    "toc": true
   },
   "source": [
    "<h1>Содержание исследования<span class=\"tocSkip\"></span></h1>\n",
    "<div class=\"toc\"><ul class=\"toc-item\"><li><ul class=\"toc-item\"><li><span><a href=\"#Задачи-исследования:\" data-toc-modified-id=\"Задачи-исследования:-0.1\"><span class=\"toc-item-num\">0.1&nbsp;&nbsp;</span>Задачи исследования:</a></span></li></ul></li><li><span><a href=\"#Получение-и-обзор-данных\" data-toc-modified-id=\"Получение-и-обзор-данных-1\"><span class=\"toc-item-num\">1&nbsp;&nbsp;</span>Получение и обзор данных</a></span><ul class=\"toc-item\"><li><span><a href=\"#Вывод\" data-toc-modified-id=\"Вывод-1.1\"><span class=\"toc-item-num\">1.1&nbsp;&nbsp;</span>Вывод</a></span></li></ul></li><li><span><a href=\"#Предобработка-данных\" data-toc-modified-id=\"Предобработка-данных-2\"><span class=\"toc-item-num\">2&nbsp;&nbsp;</span>Предобработка данных</a></span><ul class=\"toc-item\"><li><span><a href=\"#Вывод\" data-toc-modified-id=\"Вывод-2.1\"><span class=\"toc-item-num\">2.1&nbsp;&nbsp;</span>Вывод</a></span></li></ul></li><li><span><a href=\"#Исследовательский-анализ-данных\" data-toc-modified-id=\"Исследовательский-анализ-данных-3\"><span class=\"toc-item-num\">3&nbsp;&nbsp;</span>Исследовательский анализ данных</a></span><ul class=\"toc-item\"><li><span><a href=\"#Важны-ли-данные-за-все-периоды-выпуска-игр?\" data-toc-modified-id=\"Важны-ли-данные-за-все-периоды-выпуска-игр?-3.1\"><span class=\"toc-item-num\">3.1&nbsp;&nbsp;</span>Важны ли данные за все периоды выпуска игр?</a></span></li><li><span><a href=\"#За-какой-характерный-срок-появляются-новые-и-исчезают-старые-платформы?\" data-toc-modified-id=\"За-какой-характерный-срок-появляются-новые-и-исчезают-старые-платформы?-3.2\"><span class=\"toc-item-num\">3.2&nbsp;&nbsp;</span>За какой характерный срок появляются новые и исчезают старые платформы?</a></span></li><li><span><a href=\"#Какие-платформы-лидируют-по-продажам,-растут-или-падают?\" data-toc-modified-id=\"Какие-платформы-лидируют-по-продажам,-растут-или-падают?-3.3\"><span class=\"toc-item-num\">3.3&nbsp;&nbsp;</span>Какие платформы лидируют по продажам, растут или падают?</a></span></li><li><span><a href=\"#Построение-боксплота-по-глобальным-продажам-игр-в-разбивке-по-платформам\" data-toc-modified-id=\"Построение-боксплота-по-глобальным-продажам-игр-в-разбивке-по-платформам-3.4\"><span class=\"toc-item-num\">3.4&nbsp;&nbsp;</span>Построение боксплота по глобальным продажам игр в разбивке по платформам</a></span></li><li><span><a href=\"#Определение-влияния-на-продажи-внутри-игровой-платформы-отзывов-пользователей-и-критиков\" data-toc-modified-id=\"Определение-влияния-на-продажи-внутри-игровой-платформы-отзывов-пользователей-и-критиков-3.5\"><span class=\"toc-item-num\">3.5&nbsp;&nbsp;</span>Определение влияния на продажи внутри игровой платформы отзывов пользователей и критиков</a></span></li><li><span><a href=\"#Что-можно-сказать-о-самых-прибыльных-жанрах?-Выделяются-ли-жанры-с-высокими-и-низкими-продажами?\" data-toc-modified-id=\"Что-можно-сказать-о-самых-прибыльных-жанрах?-Выделяются-ли-жанры-с-высокими-и-низкими-продажами?-3.6\"><span class=\"toc-item-num\">3.6&nbsp;&nbsp;</span>Что можно сказать о самых прибыльных жанрах? Выделяются ли жанры с высокими и низкими продажами?</a></span></li><li><span><a href=\"#Вывод\" data-toc-modified-id=\"Вывод-3.7\"><span class=\"toc-item-num\">3.7&nbsp;&nbsp;</span>Вывод</a></span></li></ul></li><li><span><a href=\"#Cоставление-портрета-пользователя-каждого-региона-(NA,-EU,-JP)\" data-toc-modified-id=\"Cоставление-портрета-пользователя-каждого-региона-(NA,-EU,-JP)-4\"><span class=\"toc-item-num\">4&nbsp;&nbsp;</span>Cоставление портрета пользователя каждого региона (<em>NA</em>, <em>EU</em>, <em>JP</em>)</a></span><ul class=\"toc-item\"><li><span><a href=\"#Топ-5-популярных-игровых-платформ\" data-toc-modified-id=\"Топ-5-популярных-игровых-платформ-4.1\"><span class=\"toc-item-num\">4.1&nbsp;&nbsp;</span>Топ-5 популярных игровых платформ</a></span></li><li><span><a href=\"#Топ-5-популярных-игровых-жанров\" data-toc-modified-id=\"Топ-5-популярных-игровых-жанров-4.2\"><span class=\"toc-item-num\">4.2&nbsp;&nbsp;</span>Топ-5 популярных игровых жанров</a></span></li><li><span><a href=\"#Влияет-ли-рейтинг-ESRB-на-продажи-в-отдельном-регионе?\" data-toc-modified-id=\"Влияет-ли-рейтинг-ESRB-на-продажи-в-отдельном-регионе?-4.3\"><span class=\"toc-item-num\">4.3&nbsp;&nbsp;</span>Влияет ли рейтинг ESRB на продажи в отдельном регионе?</a></span></li><li><span><a href=\"#Вывод\" data-toc-modified-id=\"Вывод-4.4\"><span class=\"toc-item-num\">4.4&nbsp;&nbsp;</span>Вывод</a></span></li></ul></li><li><span><a href=\"#Проверка-гипотез-исследования\" data-toc-modified-id=\"Проверка-гипотез-исследования-5\"><span class=\"toc-item-num\">5&nbsp;&nbsp;</span>Проверка гипотез исследования</a></span><ul class=\"toc-item\"><li><span><a href=\"#Средние-пользовательские-рейтинги-платформ-Xbox-One-и-PC-одинаковые\" data-toc-modified-id=\"Средние-пользовательские-рейтинги-платформ-Xbox-One-и-PC-одинаковые-5.1\"><span class=\"toc-item-num\">5.1&nbsp;&nbsp;</span>Средние пользовательские рейтинги платформ <em>Xbox One</em> и <em>PC</em> одинаковые</a></span></li><li><span><a href=\"#Средние-пользовательские-рейтинги-жанров-Action-и-Sports-разные\" data-toc-modified-id=\"Средние-пользовательские-рейтинги-жанров-Action-и-Sports-разные-5.2\"><span class=\"toc-item-num\">5.2&nbsp;&nbsp;</span>Средние пользовательские рейтинги жанров <em>Action</em> и <em>Sports</em> разные</a></span></li><li><span><a href=\"#Вывод\" data-toc-modified-id=\"Вывод-5.3\"><span class=\"toc-item-num\">5.3&nbsp;&nbsp;</span>Вывод</a></span></li></ul></li><li><span><a href=\"#Общий-вывод-исследования\" data-toc-modified-id=\"Общий-вывод-исследования-6\"><span class=\"toc-item-num\">6&nbsp;&nbsp;</span>Общий вывод исследования</a></span></li></ul></div>"
   ]
  },
  {
   "cell_type": "markdown",
   "id": "1cbd4866",
   "metadata": {},
   "source": [
    "## Получение и обзор данных\n",
    "\n",
    "---"
   ]
  },
  {
   "cell_type": "markdown",
   "id": "5cf37f3a",
   "metadata": {},
   "source": [
    "Импортируем необходимые для исследования библиотеки:"
   ]
  },
  {
   "cell_type": "code",
   "execution_count": 1,
   "id": "eab02df1",
   "metadata": {},
   "outputs": [],
   "source": [
    "import pandas as pd\n",
    "import numpy as np\n",
    "import re\n",
    "\n",
    "import matplotlib.pyplot as plt\n",
    "import matplotlib.ticker as ticker\n",
    "import seaborn as sns\n",
    "\n",
    "from scipy import stats as st\n",
    "from IPython.display import display"
   ]
  },
  {
   "cell_type": "markdown",
   "id": "0cb7e1bf",
   "metadata": {},
   "source": [
    "Прочитаем файл *games.csv* и сохраним его в переменной `games`:"
   ]
  },
  {
   "cell_type": "code",
   "execution_count": 2,
   "id": "2ea3aad3",
   "metadata": {},
   "outputs": [],
   "source": [
    "# чтение файла с данными методом read_csv() \n",
    "# и сохранение в соответствующей переменной\n",
    "games = pd.read_csv('games.csv')"
   ]
  },
  {
   "cell_type": "markdown",
   "id": "67a7bf29",
   "metadata": {},
   "source": [
    "Получим первые десять строк и полную информацию о таблице:"
   ]
  },
  {
   "cell_type": "code",
   "execution_count": 3,
   "id": "54414694",
   "metadata": {},
   "outputs": [
    {
     "data": {
      "text/html": [
       "<div>\n",
       "<style scoped>\n",
       "    .dataframe tbody tr th:only-of-type {\n",
       "        vertical-align: middle;\n",
       "    }\n",
       "\n",
       "    .dataframe tbody tr th {\n",
       "        vertical-align: top;\n",
       "    }\n",
       "\n",
       "    .dataframe thead th {\n",
       "        text-align: right;\n",
       "    }\n",
       "</style>\n",
       "<table border=\"1\" class=\"dataframe\">\n",
       "  <thead>\n",
       "    <tr style=\"text-align: right;\">\n",
       "      <th></th>\n",
       "      <th>Name</th>\n",
       "      <th>Platform</th>\n",
       "      <th>Year_of_Release</th>\n",
       "      <th>Genre</th>\n",
       "      <th>NA_sales</th>\n",
       "      <th>EU_sales</th>\n",
       "      <th>JP_sales</th>\n",
       "      <th>Other_sales</th>\n",
       "      <th>Critic_Score</th>\n",
       "      <th>User_Score</th>\n",
       "      <th>Rating</th>\n",
       "    </tr>\n",
       "  </thead>\n",
       "  <tbody>\n",
       "    <tr>\n",
       "      <td>0</td>\n",
       "      <td>Wii Sports</td>\n",
       "      <td>Wii</td>\n",
       "      <td>2006.0</td>\n",
       "      <td>Sports</td>\n",
       "      <td>41.36</td>\n",
       "      <td>28.96</td>\n",
       "      <td>3.77</td>\n",
       "      <td>8.45</td>\n",
       "      <td>76.0</td>\n",
       "      <td>8</td>\n",
       "      <td>E</td>\n",
       "    </tr>\n",
       "    <tr>\n",
       "      <td>1</td>\n",
       "      <td>Super Mario Bros.</td>\n",
       "      <td>NES</td>\n",
       "      <td>1985.0</td>\n",
       "      <td>Platform</td>\n",
       "      <td>29.08</td>\n",
       "      <td>3.58</td>\n",
       "      <td>6.81</td>\n",
       "      <td>0.77</td>\n",
       "      <td>NaN</td>\n",
       "      <td>NaN</td>\n",
       "      <td>NaN</td>\n",
       "    </tr>\n",
       "    <tr>\n",
       "      <td>2</td>\n",
       "      <td>Mario Kart Wii</td>\n",
       "      <td>Wii</td>\n",
       "      <td>2008.0</td>\n",
       "      <td>Racing</td>\n",
       "      <td>15.68</td>\n",
       "      <td>12.76</td>\n",
       "      <td>3.79</td>\n",
       "      <td>3.29</td>\n",
       "      <td>82.0</td>\n",
       "      <td>8.3</td>\n",
       "      <td>E</td>\n",
       "    </tr>\n",
       "    <tr>\n",
       "      <td>3</td>\n",
       "      <td>Wii Sports Resort</td>\n",
       "      <td>Wii</td>\n",
       "      <td>2009.0</td>\n",
       "      <td>Sports</td>\n",
       "      <td>15.61</td>\n",
       "      <td>10.93</td>\n",
       "      <td>3.28</td>\n",
       "      <td>2.95</td>\n",
       "      <td>80.0</td>\n",
       "      <td>8</td>\n",
       "      <td>E</td>\n",
       "    </tr>\n",
       "    <tr>\n",
       "      <td>4</td>\n",
       "      <td>Pokemon Red/Pokemon Blue</td>\n",
       "      <td>GB</td>\n",
       "      <td>1996.0</td>\n",
       "      <td>Role-Playing</td>\n",
       "      <td>11.27</td>\n",
       "      <td>8.89</td>\n",
       "      <td>10.22</td>\n",
       "      <td>1.00</td>\n",
       "      <td>NaN</td>\n",
       "      <td>NaN</td>\n",
       "      <td>NaN</td>\n",
       "    </tr>\n",
       "    <tr>\n",
       "      <td>5</td>\n",
       "      <td>Tetris</td>\n",
       "      <td>GB</td>\n",
       "      <td>1989.0</td>\n",
       "      <td>Puzzle</td>\n",
       "      <td>23.20</td>\n",
       "      <td>2.26</td>\n",
       "      <td>4.22</td>\n",
       "      <td>0.58</td>\n",
       "      <td>NaN</td>\n",
       "      <td>NaN</td>\n",
       "      <td>NaN</td>\n",
       "    </tr>\n",
       "    <tr>\n",
       "      <td>6</td>\n",
       "      <td>New Super Mario Bros.</td>\n",
       "      <td>DS</td>\n",
       "      <td>2006.0</td>\n",
       "      <td>Platform</td>\n",
       "      <td>11.28</td>\n",
       "      <td>9.14</td>\n",
       "      <td>6.50</td>\n",
       "      <td>2.88</td>\n",
       "      <td>89.0</td>\n",
       "      <td>8.5</td>\n",
       "      <td>E</td>\n",
       "    </tr>\n",
       "    <tr>\n",
       "      <td>7</td>\n",
       "      <td>Wii Play</td>\n",
       "      <td>Wii</td>\n",
       "      <td>2006.0</td>\n",
       "      <td>Misc</td>\n",
       "      <td>13.96</td>\n",
       "      <td>9.18</td>\n",
       "      <td>2.93</td>\n",
       "      <td>2.84</td>\n",
       "      <td>58.0</td>\n",
       "      <td>6.6</td>\n",
       "      <td>E</td>\n",
       "    </tr>\n",
       "    <tr>\n",
       "      <td>8</td>\n",
       "      <td>New Super Mario Bros. Wii</td>\n",
       "      <td>Wii</td>\n",
       "      <td>2009.0</td>\n",
       "      <td>Platform</td>\n",
       "      <td>14.44</td>\n",
       "      <td>6.94</td>\n",
       "      <td>4.70</td>\n",
       "      <td>2.24</td>\n",
       "      <td>87.0</td>\n",
       "      <td>8.4</td>\n",
       "      <td>E</td>\n",
       "    </tr>\n",
       "    <tr>\n",
       "      <td>9</td>\n",
       "      <td>Duck Hunt</td>\n",
       "      <td>NES</td>\n",
       "      <td>1984.0</td>\n",
       "      <td>Shooter</td>\n",
       "      <td>26.93</td>\n",
       "      <td>0.63</td>\n",
       "      <td>0.28</td>\n",
       "      <td>0.47</td>\n",
       "      <td>NaN</td>\n",
       "      <td>NaN</td>\n",
       "      <td>NaN</td>\n",
       "    </tr>\n",
       "  </tbody>\n",
       "</table>\n",
       "</div>"
      ],
      "text/plain": [
       "                        Name Platform  Year_of_Release         Genre  \\\n",
       "0                 Wii Sports      Wii           2006.0        Sports   \n",
       "1          Super Mario Bros.      NES           1985.0      Platform   \n",
       "2             Mario Kart Wii      Wii           2008.0        Racing   \n",
       "3          Wii Sports Resort      Wii           2009.0        Sports   \n",
       "4   Pokemon Red/Pokemon Blue       GB           1996.0  Role-Playing   \n",
       "5                     Tetris       GB           1989.0        Puzzle   \n",
       "6      New Super Mario Bros.       DS           2006.0      Platform   \n",
       "7                   Wii Play      Wii           2006.0          Misc   \n",
       "8  New Super Mario Bros. Wii      Wii           2009.0      Platform   \n",
       "9                  Duck Hunt      NES           1984.0       Shooter   \n",
       "\n",
       "   NA_sales  EU_sales  JP_sales  Other_sales  Critic_Score User_Score Rating  \n",
       "0     41.36     28.96      3.77         8.45          76.0          8      E  \n",
       "1     29.08      3.58      6.81         0.77           NaN        NaN    NaN  \n",
       "2     15.68     12.76      3.79         3.29          82.0        8.3      E  \n",
       "3     15.61     10.93      3.28         2.95          80.0          8      E  \n",
       "4     11.27      8.89     10.22         1.00           NaN        NaN    NaN  \n",
       "5     23.20      2.26      4.22         0.58           NaN        NaN    NaN  \n",
       "6     11.28      9.14      6.50         2.88          89.0        8.5      E  \n",
       "7     13.96      9.18      2.93         2.84          58.0        6.6      E  \n",
       "8     14.44      6.94      4.70         2.24          87.0        8.4      E  \n",
       "9     26.93      0.63      0.28         0.47           NaN        NaN    NaN  "
      ]
     },
     "metadata": {},
     "output_type": "display_data"
    },
    {
     "name": "stdout",
     "output_type": "stream",
     "text": [
      "<class 'pandas.core.frame.DataFrame'>\n",
      "RangeIndex: 16715 entries, 0 to 16714\n",
      "Data columns (total 11 columns):\n",
      "Name               16713 non-null object\n",
      "Platform           16715 non-null object\n",
      "Year_of_Release    16446 non-null float64\n",
      "Genre              16713 non-null object\n",
      "NA_sales           16715 non-null float64\n",
      "EU_sales           16715 non-null float64\n",
      "JP_sales           16715 non-null float64\n",
      "Other_sales        16715 non-null float64\n",
      "Critic_Score       8137 non-null float64\n",
      "User_Score         10014 non-null object\n",
      "Rating             9949 non-null object\n",
      "dtypes: float64(6), object(5)\n",
      "memory usage: 1.4+ MB\n"
     ]
    }
   ],
   "source": [
    "# получение первых 10 строк таблицы методом head()\n",
    "display(games.head(10))\n",
    "\n",
    "# получение информации о таблице методом info()\n",
    "games.info()"
   ]
  },
  {
   "cell_type": "markdown",
   "id": "4f8c6cec",
   "metadata": {},
   "source": [
    "Опишем столбцы полученного датасета. <br/>\n",
    "\n",
    "Всего в таблице `16715` записей в 11 столбцах с типами данных - вещественный `float64` и строковый объект `object`:\n",
    "\n",
    "1. `Name` — название игры\n",
    "2. `Platform` — платформа\n",
    "3. `Year_of_Release` — год выпуска\n",
    "4. `Genre` — жанр игры\n",
    "5. `NA_sales` — продажи в Северной Америке (миллионы проданных копий)\n",
    "6. `EU_sales` — продажи в Европе (миллионы проданных копий)\n",
    "7. `JP_sales` — продажи в Японии (миллионы проданных копий)\n",
    "8. `Other_sales` — продажи в других странах (миллионы проданных копий)\n",
    "9. `Critic_Score` — оценка критиков (максимум 100)\n",
    "10. `User_Score` — оценка пользователей (максимум 10)\n",
    "11. `Rating` — возрастной рейтинг от организации ESRB "
   ]
  },
  {
   "cell_type": "markdown",
   "id": "a8624d96",
   "metadata": {},
   "source": [
    "### Вывод\n",
    "\n",
    "---\n",
    "\n",
    "Записи в исходном датасете содержат полную информацию о видеоиграх: название, игровая платформа, год выпуска, жанр, оценка критиков, оценка пользователей и возрастной рейтинг. Также в нашем распоряжении информация о продажах (в миллионах проданных копий) по Северной Америке, Европе, Японии и другим странам.\n",
    "\n",
    "Для последующего анализа важны все поля датафрейма, по которым предстоит обработка пропущенных значений (столбцы `Name`, `Year_of_Release`, `Critic_Score`, `User_Score` и `Rating`) и возможных скрытых артефактов: нулевых, отрицательных, некорректных значений, дубликатов записей. Необходимо привести полейстолбцов к нижнему регистру, а после предобработки также преобразовать данные в столбцах к нужным типам.\n",
    "\n",
    "---"
   ]
  },
  {
   "cell_type": "markdown",
   "id": "8d77a37a",
   "metadata": {},
   "source": [
    "## Предобработка данных\n",
    "\n",
    "---"
   ]
  },
  {
   "cell_type": "markdown",
   "id": "b3b14f9a",
   "metadata": {},
   "source": [
    "Исходя из важности всех данных в текущем исследовании, предобработку проведем последовательно - по столбцам исходного датасета - для уменьшения вероятности пропустить скрытые артефакты.\n",
    "\n",
    "Но для начала заменим названия столбцов - приведем их к нижнему регистру:"
   ]
  },
  {
   "cell_type": "code",
   "execution_count": 4,
   "id": "86345be4",
   "metadata": {},
   "outputs": [
    {
     "data": {
      "text/plain": [
       "Index(['name', 'platform', 'year_of_release', 'genre', 'na_sales', 'eu_sales',\n",
       "       'jp_sales', 'other_sales', 'critic_score', 'user_score', 'rating'],\n",
       "      dtype='object')"
      ]
     },
     "execution_count": 4,
     "metadata": {},
     "output_type": "execute_result"
    }
   ],
   "source": [
    "# приведение названий столбцов таблицы games к нижнему регистру методом str.lower()\n",
    "games.columns = games.columns.str.lower()\n",
    "\n",
    "# проверка - получение названий столбцов таблицы games\n",
    "games.columns"
   ]
  },
  {
   "cell_type": "markdown",
   "id": "d58db145",
   "metadata": {},
   "source": [
    "**`name` — название игры**"
   ]
  },
  {
   "cell_type": "markdown",
   "id": "e6fc35cc",
   "metadata": {},
   "source": [
    "По столбцу `name` имеем два пропущенных значения. Получим записи, содержащие их:"
   ]
  },
  {
   "cell_type": "code",
   "execution_count": 5,
   "id": "6392fbf8",
   "metadata": {},
   "outputs": [
    {
     "data": {
      "text/html": [
       "<div>\n",
       "<style scoped>\n",
       "    .dataframe tbody tr th:only-of-type {\n",
       "        vertical-align: middle;\n",
       "    }\n",
       "\n",
       "    .dataframe tbody tr th {\n",
       "        vertical-align: top;\n",
       "    }\n",
       "\n",
       "    .dataframe thead th {\n",
       "        text-align: right;\n",
       "    }\n",
       "</style>\n",
       "<table border=\"1\" class=\"dataframe\">\n",
       "  <thead>\n",
       "    <tr style=\"text-align: right;\">\n",
       "      <th></th>\n",
       "      <th>name</th>\n",
       "      <th>platform</th>\n",
       "      <th>year_of_release</th>\n",
       "      <th>genre</th>\n",
       "      <th>na_sales</th>\n",
       "      <th>eu_sales</th>\n",
       "      <th>jp_sales</th>\n",
       "      <th>other_sales</th>\n",
       "      <th>critic_score</th>\n",
       "      <th>user_score</th>\n",
       "      <th>rating</th>\n",
       "    </tr>\n",
       "  </thead>\n",
       "  <tbody>\n",
       "    <tr>\n",
       "      <td>659</td>\n",
       "      <td>NaN</td>\n",
       "      <td>GEN</td>\n",
       "      <td>1993.0</td>\n",
       "      <td>NaN</td>\n",
       "      <td>1.78</td>\n",
       "      <td>0.53</td>\n",
       "      <td>0.00</td>\n",
       "      <td>0.08</td>\n",
       "      <td>NaN</td>\n",
       "      <td>NaN</td>\n",
       "      <td>NaN</td>\n",
       "    </tr>\n",
       "    <tr>\n",
       "      <td>14244</td>\n",
       "      <td>NaN</td>\n",
       "      <td>GEN</td>\n",
       "      <td>1993.0</td>\n",
       "      <td>NaN</td>\n",
       "      <td>0.00</td>\n",
       "      <td>0.00</td>\n",
       "      <td>0.03</td>\n",
       "      <td>0.00</td>\n",
       "      <td>NaN</td>\n",
       "      <td>NaN</td>\n",
       "      <td>NaN</td>\n",
       "    </tr>\n",
       "  </tbody>\n",
       "</table>\n",
       "</div>"
      ],
      "text/plain": [
       "      name platform  year_of_release genre  na_sales  eu_sales  jp_sales  \\\n",
       "659    NaN      GEN           1993.0   NaN      1.78      0.53      0.00   \n",
       "14244  NaN      GEN           1993.0   NaN      0.00      0.00      0.03   \n",
       "\n",
       "       other_sales  critic_score user_score rating  \n",
       "659           0.08           NaN        NaN    NaN  \n",
       "14244         0.00           NaN        NaN    NaN  "
      ]
     },
     "execution_count": 5,
     "metadata": {},
     "output_type": "execute_result"
    }
   ],
   "source": [
    "# получение записей со значением 'NaN' по столбцу 'name' методом isna()\n",
    "games[games['name'].isna()]"
   ]
  },
  {
   "cell_type": "markdown",
   "id": "86240e5d",
   "metadata": {},
   "source": [
    "Так как по представленным записям нет такой необходимой для анализа информации, как жанр, оценки критиков, оценки пользователей и рейтинга, а по имеющимся данным восстановить пропуски не представляется возможным, удалим строки из таблицы `games`:"
   ]
  },
  {
   "cell_type": "code",
   "execution_count": 6,
   "id": "298d61ad",
   "metadata": {},
   "outputs": [],
   "source": [
    "# удаление записей со значением 'NaN' по столбцу 'name' методом dropna()\n",
    "games.dropna(subset=['name'], inplace=True)"
   ]
  },
  {
   "cell_type": "markdown",
   "id": "7ef31853",
   "metadata": {},
   "source": [
    "**`platform` — платформа**"
   ]
  },
  {
   "cell_type": "markdown",
   "id": "52c3477b",
   "metadata": {},
   "source": [
    "Судя по информации о таблице, в данном столбце не содержится пропущенных значений. Получим количество уникальных названий игровых платформ, тем самым проверив данное поле на корректность значений:"
   ]
  },
  {
   "cell_type": "code",
   "execution_count": 7,
   "id": "22a954f7",
   "metadata": {},
   "outputs": [
    {
     "data": {
      "text/plain": [
       "PS2     2161\n",
       "DS      2151\n",
       "PS3     1331\n",
       "Wii     1320\n",
       "X360    1262\n",
       "PSP     1209\n",
       "PS      1197\n",
       "PC       974\n",
       "XB       824\n",
       "GBA      822\n",
       "GC       556\n",
       "3DS      520\n",
       "PSV      430\n",
       "PS4      392\n",
       "N64      319\n",
       "XOne     247\n",
       "SNES     239\n",
       "SAT      173\n",
       "WiiU     147\n",
       "2600     133\n",
       "GB        98\n",
       "NES       98\n",
       "DC        52\n",
       "GEN       27\n",
       "NG        12\n",
       "SCD        6\n",
       "WS         6\n",
       "3DO        3\n",
       "TG16       2\n",
       "PCFX       1\n",
       "GG         1\n",
       "Name: platform, dtype: int64"
      ]
     },
     "execution_count": 7,
     "metadata": {},
     "output_type": "execute_result"
    }
   ],
   "source": [
    "# получение количества уникальных значений по столбцу 'platform' методом value_counts()\n",
    "games.platform.value_counts()"
   ]
  },
  {
   "cell_type": "markdown",
   "id": "9edb3ea5",
   "metadata": {},
   "source": [
    "Не наблюдем дублирующихся или некорретных значений - в данном столбце представлены все игровые платформы, включая самые экзотические.\n",
    "\n",
    "Для повышения скорости обработки значений и минимизации используемой памяти приведем данный столбец к категориальному типу `category`:"
   ]
  },
  {
   "cell_type": "code",
   "execution_count": 8,
   "id": "fc72ae10",
   "metadata": {},
   "outputs": [],
   "source": [
    "# приведение столбца 'platform' к категориальному типу методом astype()\n",
    "games.platform = games.platform.astype('category')"
   ]
  },
  {
   "cell_type": "markdown",
   "id": "9663e809",
   "metadata": {},
   "source": [
    "**`year_of_release` — год выпуска**"
   ]
  },
  {
   "cell_type": "markdown",
   "id": "f0ce348d",
   "metadata": {},
   "source": [
    "Для начала создадим функцию `show_artifacts`, которая выводит количество отрицательных, нулевых и значений `NaN`, а также минимальное и максимальное значения по столбцу:"
   ]
  },
  {
   "cell_type": "code",
   "execution_count": 9,
   "id": "c19ef891",
   "metadata": {},
   "outputs": [],
   "source": [
    "# создание функции show_artifacts() с аргументом 'column'\n",
    "def show_artifacts(column):\n",
    "    '''\n",
    "    Выводит количество отрицательных, нулевых и значений 'NaN',\n",
    "    а также минимальное и максимальное значения по столбцу\n",
    "    '''\n",
    "    print(column)\n",
    "    print('------------------------------')\n",
    "    print('Отрицательных значений: ', len(games[games[column] < 0 ]))\n",
    "    print('Нулевых значений: ', len(games[games[column] == 0 ]))\n",
    "    print('Значений \"NaN\": ', games[column].isna().sum())\n",
    "    print('Минимальное значение: ', games[column].min())\n",
    "    print('Максимальное значение: ', games[column].max())"
   ]
  },
  {
   "cell_type": "markdown",
   "id": "1c341272",
   "metadata": {},
   "source": [
    "И прменим ее к столбцу `year_of_release`:"
   ]
  },
  {
   "cell_type": "code",
   "execution_count": 10,
   "id": "02a4bd88",
   "metadata": {},
   "outputs": [
    {
     "name": "stdout",
     "output_type": "stream",
     "text": [
      "year_of_release\n",
      "------------------------------\n",
      "Отрицательных значений:  0\n",
      "Нулевых значений:  0\n",
      "Значений \"NaN\":  269\n",
      "Минимальное значение:  1980.0\n",
      "Максимальное значение:  2016.0\n"
     ]
    }
   ],
   "source": [
    "# вызов функции show_artifacts() с аргументом 'year_of_release'\n",
    "show_artifacts('year_of_release')"
   ]
  },
  {
   "cell_type": "markdown",
   "id": "4398fc76",
   "metadata": {},
   "source": [
    "По рассматриваемому полю не наблюдается скрытых аномалий. \n",
    "\n",
    "Получим записи, содержащие пропуски по столбцу с информацией о годе релиза игры:"
   ]
  },
  {
   "cell_type": "code",
   "execution_count": 11,
   "id": "c7b1237d",
   "metadata": {},
   "outputs": [
    {
     "data": {
      "text/html": [
       "<div>\n",
       "<style scoped>\n",
       "    .dataframe tbody tr th:only-of-type {\n",
       "        vertical-align: middle;\n",
       "    }\n",
       "\n",
       "    .dataframe tbody tr th {\n",
       "        vertical-align: top;\n",
       "    }\n",
       "\n",
       "    .dataframe thead th {\n",
       "        text-align: right;\n",
       "    }\n",
       "</style>\n",
       "<table border=\"1\" class=\"dataframe\">\n",
       "  <thead>\n",
       "    <tr style=\"text-align: right;\">\n",
       "      <th></th>\n",
       "      <th>name</th>\n",
       "      <th>platform</th>\n",
       "      <th>year_of_release</th>\n",
       "      <th>genre</th>\n",
       "      <th>na_sales</th>\n",
       "      <th>eu_sales</th>\n",
       "      <th>jp_sales</th>\n",
       "      <th>other_sales</th>\n",
       "      <th>critic_score</th>\n",
       "      <th>user_score</th>\n",
       "      <th>rating</th>\n",
       "    </tr>\n",
       "  </thead>\n",
       "  <tbody>\n",
       "    <tr>\n",
       "      <td>183</td>\n",
       "      <td>Madden NFL 2004</td>\n",
       "      <td>PS2</td>\n",
       "      <td>NaN</td>\n",
       "      <td>Sports</td>\n",
       "      <td>4.26</td>\n",
       "      <td>0.26</td>\n",
       "      <td>0.01</td>\n",
       "      <td>0.71</td>\n",
       "      <td>94.0</td>\n",
       "      <td>8.5</td>\n",
       "      <td>E</td>\n",
       "    </tr>\n",
       "    <tr>\n",
       "      <td>377</td>\n",
       "      <td>FIFA Soccer 2004</td>\n",
       "      <td>PS2</td>\n",
       "      <td>NaN</td>\n",
       "      <td>Sports</td>\n",
       "      <td>0.59</td>\n",
       "      <td>2.36</td>\n",
       "      <td>0.04</td>\n",
       "      <td>0.51</td>\n",
       "      <td>84.0</td>\n",
       "      <td>6.4</td>\n",
       "      <td>E</td>\n",
       "    </tr>\n",
       "    <tr>\n",
       "      <td>456</td>\n",
       "      <td>LEGO Batman: The Videogame</td>\n",
       "      <td>Wii</td>\n",
       "      <td>NaN</td>\n",
       "      <td>Action</td>\n",
       "      <td>1.80</td>\n",
       "      <td>0.97</td>\n",
       "      <td>0.00</td>\n",
       "      <td>0.29</td>\n",
       "      <td>74.0</td>\n",
       "      <td>7.9</td>\n",
       "      <td>E10+</td>\n",
       "    </tr>\n",
       "    <tr>\n",
       "      <td>475</td>\n",
       "      <td>wwe Smackdown vs. Raw 2006</td>\n",
       "      <td>PS2</td>\n",
       "      <td>NaN</td>\n",
       "      <td>Fighting</td>\n",
       "      <td>1.57</td>\n",
       "      <td>1.02</td>\n",
       "      <td>0.00</td>\n",
       "      <td>0.41</td>\n",
       "      <td>NaN</td>\n",
       "      <td>NaN</td>\n",
       "      <td>NaN</td>\n",
       "    </tr>\n",
       "    <tr>\n",
       "      <td>609</td>\n",
       "      <td>Space Invaders</td>\n",
       "      <td>2600</td>\n",
       "      <td>NaN</td>\n",
       "      <td>Shooter</td>\n",
       "      <td>2.36</td>\n",
       "      <td>0.14</td>\n",
       "      <td>0.00</td>\n",
       "      <td>0.03</td>\n",
       "      <td>NaN</td>\n",
       "      <td>NaN</td>\n",
       "      <td>NaN</td>\n",
       "    </tr>\n",
       "    <tr>\n",
       "      <td>...</td>\n",
       "      <td>...</td>\n",
       "      <td>...</td>\n",
       "      <td>...</td>\n",
       "      <td>...</td>\n",
       "      <td>...</td>\n",
       "      <td>...</td>\n",
       "      <td>...</td>\n",
       "      <td>...</td>\n",
       "      <td>...</td>\n",
       "      <td>...</td>\n",
       "      <td>...</td>\n",
       "    </tr>\n",
       "    <tr>\n",
       "      <td>16373</td>\n",
       "      <td>PDC World Championship Darts 2008</td>\n",
       "      <td>PSP</td>\n",
       "      <td>NaN</td>\n",
       "      <td>Sports</td>\n",
       "      <td>0.01</td>\n",
       "      <td>0.00</td>\n",
       "      <td>0.00</td>\n",
       "      <td>0.00</td>\n",
       "      <td>43.0</td>\n",
       "      <td>tbd</td>\n",
       "      <td>E10+</td>\n",
       "    </tr>\n",
       "    <tr>\n",
       "      <td>16405</td>\n",
       "      <td>Freaky Flyers</td>\n",
       "      <td>GC</td>\n",
       "      <td>NaN</td>\n",
       "      <td>Racing</td>\n",
       "      <td>0.01</td>\n",
       "      <td>0.00</td>\n",
       "      <td>0.00</td>\n",
       "      <td>0.00</td>\n",
       "      <td>69.0</td>\n",
       "      <td>6.5</td>\n",
       "      <td>T</td>\n",
       "    </tr>\n",
       "    <tr>\n",
       "      <td>16448</td>\n",
       "      <td>Inversion</td>\n",
       "      <td>PC</td>\n",
       "      <td>NaN</td>\n",
       "      <td>Shooter</td>\n",
       "      <td>0.01</td>\n",
       "      <td>0.00</td>\n",
       "      <td>0.00</td>\n",
       "      <td>0.00</td>\n",
       "      <td>59.0</td>\n",
       "      <td>6.7</td>\n",
       "      <td>M</td>\n",
       "    </tr>\n",
       "    <tr>\n",
       "      <td>16458</td>\n",
       "      <td>Hakuouki: Shinsengumi Kitan</td>\n",
       "      <td>PS3</td>\n",
       "      <td>NaN</td>\n",
       "      <td>Adventure</td>\n",
       "      <td>0.01</td>\n",
       "      <td>0.00</td>\n",
       "      <td>0.00</td>\n",
       "      <td>0.00</td>\n",
       "      <td>NaN</td>\n",
       "      <td>NaN</td>\n",
       "      <td>NaN</td>\n",
       "    </tr>\n",
       "    <tr>\n",
       "      <td>16522</td>\n",
       "      <td>Virtua Quest</td>\n",
       "      <td>GC</td>\n",
       "      <td>NaN</td>\n",
       "      <td>Role-Playing</td>\n",
       "      <td>0.01</td>\n",
       "      <td>0.00</td>\n",
       "      <td>0.00</td>\n",
       "      <td>0.00</td>\n",
       "      <td>55.0</td>\n",
       "      <td>5.5</td>\n",
       "      <td>T</td>\n",
       "    </tr>\n",
       "  </tbody>\n",
       "</table>\n",
       "<p>269 rows × 11 columns</p>\n",
       "</div>"
      ],
      "text/plain": [
       "                                    name platform  year_of_release  \\\n",
       "183                      Madden NFL 2004      PS2              NaN   \n",
       "377                     FIFA Soccer 2004      PS2              NaN   \n",
       "456           LEGO Batman: The Videogame      Wii              NaN   \n",
       "475           wwe Smackdown vs. Raw 2006      PS2              NaN   \n",
       "609                       Space Invaders     2600              NaN   \n",
       "...                                  ...      ...              ...   \n",
       "16373  PDC World Championship Darts 2008      PSP              NaN   \n",
       "16405                      Freaky Flyers       GC              NaN   \n",
       "16448                          Inversion       PC              NaN   \n",
       "16458        Hakuouki: Shinsengumi Kitan      PS3              NaN   \n",
       "16522                       Virtua Quest       GC              NaN   \n",
       "\n",
       "              genre  na_sales  eu_sales  jp_sales  other_sales  critic_score  \\\n",
       "183          Sports      4.26      0.26      0.01         0.71          94.0   \n",
       "377          Sports      0.59      2.36      0.04         0.51          84.0   \n",
       "456          Action      1.80      0.97      0.00         0.29          74.0   \n",
       "475        Fighting      1.57      1.02      0.00         0.41           NaN   \n",
       "609         Shooter      2.36      0.14      0.00         0.03           NaN   \n",
       "...             ...       ...       ...       ...          ...           ...   \n",
       "16373        Sports      0.01      0.00      0.00         0.00          43.0   \n",
       "16405        Racing      0.01      0.00      0.00         0.00          69.0   \n",
       "16448       Shooter      0.01      0.00      0.00         0.00          59.0   \n",
       "16458     Adventure      0.01      0.00      0.00         0.00           NaN   \n",
       "16522  Role-Playing      0.01      0.00      0.00         0.00          55.0   \n",
       "\n",
       "      user_score rating  \n",
       "183          8.5      E  \n",
       "377          6.4      E  \n",
       "456          7.9   E10+  \n",
       "475          NaN    NaN  \n",
       "609          NaN    NaN  \n",
       "...          ...    ...  \n",
       "16373        tbd   E10+  \n",
       "16405        6.5      T  \n",
       "16448        6.7      M  \n",
       "16458        NaN    NaN  \n",
       "16522        5.5      T  \n",
       "\n",
       "[269 rows x 11 columns]"
      ]
     },
     "execution_count": 11,
     "metadata": {},
     "output_type": "execute_result"
    }
   ],
   "source": [
    "# получение записей со значением 'NaN' по столбцу 'year_of_release' методом isna()\n",
    "games[games['year_of_release'].isna()]"
   ]
  },
  {
   "cell_type": "markdown",
   "id": "17147629",
   "metadata": {},
   "source": [
    "В названии некоторых видеоигр (в частности связанных со спортивной тематикой) фигурирует год выпуска игры. Найдем подобные названия по XXI веку (`20xx` года), извлечем из них номер года и подставим вместо значений `NaN` в столбец `year_of_release`:"
   ]
  },
  {
   "cell_type": "code",
   "execution_count": 12,
   "id": "1ae3fba0",
   "metadata": {
    "scrolled": true
   },
   "outputs": [
    {
     "name": "stdout",
     "output_type": "stream",
     "text": [
      "Проведена замена 17 значений\n"
     ]
    }
   ],
   "source": [
    "# получение столбца 'name' из среза записей со значением 'NaN' по столбцу 'year_of_release' методом isna()\n",
    "# применение к данным значениям лямбда-функции с регулярным выражением для поиска 20xx года  \n",
    "# преобразование значений в строковый тип методом astype()\n",
    "year_in_name = games[games['year_of_release'].isna()]['name'].apply(lambda x: re.findall(r'20\\d\\d', x)).astype(str)\n",
    "\n",
    "# удаление пустых строк из полученных результатов поиска\n",
    "year_in_name.drop(year_in_name[year_in_name == '[]'].index, inplace=True)\n",
    "\n",
    "# если список с результатами поиска не пустой, то из строк удаляются символы '[]' \n",
    "# и 'NaN' по столбцу 'year_of_release' заменяются полученными значениями методом\n",
    "# update() с выводом соответствующего уведомления\n",
    "if len(year_in_name) != 0:\n",
    "    year_in_name = year_in_name.str.replace('\\[|\\]|\\'','').astype(float)\n",
    "    games['year_of_release'].update(year_in_name)\n",
    "    print('Проведена замена {0} значений'.format(len(year_in_name)))\n",
    "# в обратном случае также выводится соответствующее уведомление\n",
    "else:\n",
    "    print('Значений для замены не найдено')"
   ]
  },
  {
   "cell_type": "markdown",
   "id": "ebd3d3b5",
   "metadata": {},
   "source": [
    "Повторим тоже самое для века двадцатого (`19xx` года):"
   ]
  },
  {
   "cell_type": "code",
   "execution_count": 13,
   "id": "974eac95",
   "metadata": {},
   "outputs": [
    {
     "name": "stdout",
     "output_type": "stream",
     "text": [
      "Значений для замены не найдено\n"
     ]
    }
   ],
   "source": [
    "# поиск значений на замену 'NaN' по столбцу 'year_of_release' для игр, в названии которых фигурирует 19xx год\n",
    "year_in_name = games[games['year_of_release'].isna()]['name'].apply(lambda x: re.findall(r'19\\d\\d', x)).astype(str)\n",
    "year_in_name.drop(year_in_name[year_in_name == '[]'].index, inplace=True)\n",
    "if len(year_in_name) != 0:\n",
    "    year_in_name = year_in_name.str.replace('\\[|\\]|\\'','').astype(float)\n",
    "    games['year_of_release'].update(year_in_name)\n",
    "    print('Проведена замена {0} значений'.format(len(year_in_name)))\n",
    "else:\n",
    "    print('Значений для замены не найдено')"
   ]
  },
  {
   "cell_type": "markdown",
   "id": "2a7c9eeb",
   "metadata": {},
   "source": [
    "Избавиться от всех значений `NaN` не удалось, однако некоторый успех имеется. \n",
    "\n",
    "\n",
    "Удалять данные строки нет необходимости - они содержат данные, которые понадобятся для анализа по другим критериям, заменять `NaN` на `0` или `-1` тоже - подобные значения внесут искажение в построение графиков по данному столбцу. \n",
    "\n",
    "\n",
    "Соответственно, оставим данное поле без дальнейших изменений"
   ]
  },
  {
   "cell_type": "markdown",
   "id": "734d3ef4",
   "metadata": {},
   "source": [
    "**`genre` - жанр игры**"
   ]
  },
  {
   "cell_type": "markdown",
   "id": "05d755ef",
   "metadata": {},
   "source": [
    "После удаления строк с пропусками по столбцу `name`, в данном столбце не должно было остаться значений `NaN`. Получим количество уникальных названий жанров, тем самым проверив данное поле на корректность значений:"
   ]
  },
  {
   "cell_type": "code",
   "execution_count": 14,
   "id": "0d698c12",
   "metadata": {},
   "outputs": [
    {
     "data": {
      "text/plain": [
       "Action          3369\n",
       "Sports          2348\n",
       "Misc            1750\n",
       "Role-Playing    1498\n",
       "Shooter         1323\n",
       "Adventure       1303\n",
       "Racing          1249\n",
       "Platform         888\n",
       "Simulation       873\n",
       "Fighting         849\n",
       "Strategy         683\n",
       "Puzzle           580\n",
       "Name: genre, dtype: int64"
      ]
     },
     "execution_count": 14,
     "metadata": {},
     "output_type": "execute_result"
    }
   ],
   "source": [
    "# получение количества уникальных значений по столбцу 'genre' методом value_counts()\n",
    "games.genre.value_counts()"
   ]
  },
  {
   "cell_type": "markdown",
   "id": "86fa79ab",
   "metadata": {},
   "source": [
    "Некорректных и дублирующихся значений не наблюдается\n",
    "\n",
    "Для повышения скорости обработки значений и минимизации используемой памяти приведем данный столбец к категориальному типу `category`:"
   ]
  },
  {
   "cell_type": "code",
   "execution_count": 15,
   "id": "39e925aa",
   "metadata": {},
   "outputs": [],
   "source": [
    "# приведение столбца 'genre' к категориальному типу методом astype()\n",
    "games.genre = games.genre.astype('category')"
   ]
  },
  {
   "cell_type": "markdown",
   "id": "41f55dcb",
   "metadata": {},
   "source": [
    "**`na_sales` — продажи в Северной Америке, в Европе - `eu_sales`, в Японии `jp_sales` и других странах `other_sales` (в миллионах проданных копий)**"
   ]
  },
  {
   "cell_type": "markdown",
   "id": "845afbbf",
   "metadata": {},
   "source": [
    "Судя по информации о таблице, в данных столбцах не содержится пропущенных значений. Получим количество отрицательных и нулевых значений, а также минимальное и максимальное значения с помощью функции `show_artifacts`:"
   ]
  },
  {
   "cell_type": "code",
   "execution_count": 16,
   "id": "8e6fc726",
   "metadata": {},
   "outputs": [
    {
     "name": "stdout",
     "output_type": "stream",
     "text": [
      "na_sales\n",
      "------------------------------\n",
      "Отрицательных значений:  0\n",
      "Нулевых значений:  4507\n",
      "Значений \"NaN\":  0\n",
      "Минимальное значение:  0.0\n",
      "Максимальное значение:  41.36\n",
      "\n",
      "eu_sales\n",
      "------------------------------\n",
      "Отрицательных значений:  0\n",
      "Нулевых значений:  5869\n",
      "Значений \"NaN\":  0\n",
      "Минимальное значение:  0.0\n",
      "Максимальное значение:  28.96\n",
      "\n",
      "jp_sales\n",
      "------------------------------\n",
      "Отрицательных значений:  0\n",
      "Нулевых значений:  10513\n",
      "Значений \"NaN\":  0\n",
      "Минимальное значение:  0.0\n",
      "Максимальное значение:  10.22\n",
      "\n",
      "other_sales\n",
      "------------------------------\n",
      "Отрицательных значений:  0\n",
      "Нулевых значений:  6600\n",
      "Значений \"NaN\":  0\n",
      "Минимальное значение:  0.0\n",
      "Максимальное значение:  10.57\n",
      "\n"
     ]
    }
   ],
   "source": [
    "# вызов функции show_artifacts() по столбцам 'columns' с помощью цикла for\n",
    "for column in games.iloc[:,[4, 5, 6, 7]]:\n",
    "    show_artifacts(column)\n",
    "    print()"
   ]
  },
  {
   "cell_type": "markdown",
   "id": "58e62c31",
   "metadata": {},
   "source": [
    "Отрицательных значений не наблюдается, нулевые же (по логике представленных в таблице данных) более чем корректны: видеоигра могла и не присутствовать в определенном регионе. Максимальные значения по столбцам также без явных выбросов и похожи на валидные"
   ]
  },
  {
   "cell_type": "markdown",
   "id": "7966ebf5",
   "metadata": {},
   "source": [
    "**`critic_score` — оценка критиков**"
   ]
  },
  {
   "cell_type": "markdown",
   "id": "bf315fc6",
   "metadata": {},
   "source": [
    "Для начала получим количество артефактов по столбцу:"
   ]
  },
  {
   "cell_type": "code",
   "execution_count": 17,
   "id": "00db57a5",
   "metadata": {},
   "outputs": [
    {
     "name": "stdout",
     "output_type": "stream",
     "text": [
      "critic_score\n",
      "------------------------------\n",
      "Отрицательных значений:  0\n",
      "Нулевых значений:  0\n",
      "Значений \"NaN\":  8576\n",
      "Минимальное значение:  13.0\n",
      "Максимальное значение:  98.0\n"
     ]
    }
   ],
   "source": [
    "# вызов функции show_artifacts() с аргументом 'critic_score'\n",
    "show_artifacts('critic_score')"
   ]
  },
  {
   "cell_type": "markdown",
   "id": "28697f3d",
   "metadata": {},
   "source": [
    "Отрицательных и значений, больше `100` не имеется.\n",
    "\n",
    "Удалять строки со значением `NaN` не имеет смысла, также, как и заменять значения `NaN` на `0` или `-1` - подобная обработка внесет искажение в построение графиков по данному столбцу и помешает корректной проверке гипотез. \n",
    "\n",
    "Поэтому оставим данное поле без дальнейших изменений"
   ]
  },
  {
   "cell_type": "markdown",
   "id": "b4859aa3",
   "metadata": {},
   "source": [
    "**`user_score` — оценка пользователей**"
   ]
  },
  {
   "cell_type": "markdown",
   "id": "1c26e3e8",
   "metadata": {},
   "source": [
    "Тип данных в столбце (`object`) некорректен. Не дают возможности привести его к `float` значения `tbd`, что означает *to be determined* - дословно \"требует уточнения\". Заменим их на `NaN` и приведем поле `user_score` к вещественному типу:"
   ]
  },
  {
   "cell_type": "code",
   "execution_count": 18,
   "id": "5a8f6d7a",
   "metadata": {},
   "outputs": [],
   "source": [
    "# замена 'tbd' на 'NaN' по столбцу 'user_score' методом replace()\n",
    "games.user_score = games.user_score.replace('tbd', np.nan)\n",
    "\n",
    "# приведение столбца 'user_score' к типу 'float' методом astype()\n",
    "games.user_score = games.user_score.astype(float)"
   ]
  },
  {
   "cell_type": "markdown",
   "id": "bcbd71c9",
   "metadata": {},
   "source": [
    "Далее выведем количество артефактов по столбцу:"
   ]
  },
  {
   "cell_type": "code",
   "execution_count": 19,
   "id": "30fce30f",
   "metadata": {
    "scrolled": true
   },
   "outputs": [
    {
     "name": "stdout",
     "output_type": "stream",
     "text": [
      "user_score\n",
      "------------------------------\n",
      "Отрицательных значений:  0\n",
      "Нулевых значений:  1\n",
      "Значений \"NaN\":  9123\n",
      "Минимальное значение:  0.0\n",
      "Максимальное значение:  9.7\n"
     ]
    }
   ],
   "source": [
    "# вызов функции show_artifacts() с аргументом 'user_score'\n",
    "show_artifacts('user_score')"
   ]
  },
  {
   "cell_type": "markdown",
   "id": "d8e7348e",
   "metadata": {},
   "source": [
    "Отрицательные значения отсутствуют, максимальное также в допустимых пределах. Получим запись с нулевым значением:"
   ]
  },
  {
   "cell_type": "code",
   "execution_count": 20,
   "id": "cf3ae14b",
   "metadata": {},
   "outputs": [
    {
     "data": {
      "text/html": [
       "<div>\n",
       "<style scoped>\n",
       "    .dataframe tbody tr th:only-of-type {\n",
       "        vertical-align: middle;\n",
       "    }\n",
       "\n",
       "    .dataframe tbody tr th {\n",
       "        vertical-align: top;\n",
       "    }\n",
       "\n",
       "    .dataframe thead th {\n",
       "        text-align: right;\n",
       "    }\n",
       "</style>\n",
       "<table border=\"1\" class=\"dataframe\">\n",
       "  <thead>\n",
       "    <tr style=\"text-align: right;\">\n",
       "      <th></th>\n",
       "      <th>name</th>\n",
       "      <th>platform</th>\n",
       "      <th>year_of_release</th>\n",
       "      <th>genre</th>\n",
       "      <th>na_sales</th>\n",
       "      <th>eu_sales</th>\n",
       "      <th>jp_sales</th>\n",
       "      <th>other_sales</th>\n",
       "      <th>critic_score</th>\n",
       "      <th>user_score</th>\n",
       "      <th>rating</th>\n",
       "    </tr>\n",
       "  </thead>\n",
       "  <tbody>\n",
       "    <tr>\n",
       "      <td>2835</td>\n",
       "      <td>My Little Pony: Pinkie Pie's Party</td>\n",
       "      <td>DS</td>\n",
       "      <td>2008.0</td>\n",
       "      <td>Adventure</td>\n",
       "      <td>0.66</td>\n",
       "      <td>0.0</td>\n",
       "      <td>0.0</td>\n",
       "      <td>0.06</td>\n",
       "      <td>NaN</td>\n",
       "      <td>0.0</td>\n",
       "      <td>E</td>\n",
       "    </tr>\n",
       "  </tbody>\n",
       "</table>\n",
       "</div>"
      ],
      "text/plain": [
       "                                    name platform  year_of_release      genre  \\\n",
       "2835  My Little Pony: Pinkie Pie's Party       DS           2008.0  Adventure   \n",
       "\n",
       "      na_sales  eu_sales  jp_sales  other_sales  critic_score  user_score  \\\n",
       "2835      0.66       0.0       0.0         0.06           NaN         0.0   \n",
       "\n",
       "     rating  \n",
       "2835      E  "
      ]
     },
     "execution_count": 20,
     "metadata": {},
     "output_type": "execute_result"
    }
   ],
   "source": [
    "# получение записи с нулевым значением по столбцу 'user_score'\n",
    "games[games['user_score'] == 0]"
   ]
  },
  {
   "cell_type": "markdown",
   "id": "bbd00892",
   "metadata": {},
   "source": [
    "Присутствует явная ошибка в данных - игра с суммарным количеством около 720 тысяч проданных копий не может иметь нулевой рейтинг. Заменим нулевое значение на `NaN`:"
   ]
  },
  {
   "cell_type": "code",
   "execution_count": 21,
   "id": "9a9c0a8d",
   "metadata": {},
   "outputs": [],
   "source": [
    "# замена '0' на 'NaN' по столбцу 'user_score' методом replace()\n",
    "games.user_score = games.user_score.replace(0, np.nan)"
   ]
  },
  {
   "cell_type": "markdown",
   "id": "ae036fb7",
   "metadata": {},
   "source": [
    "По аналогии с полем `critic_score`, удалять строки со значением `NaN` не имеет смысла, также, как и заменять значения `NaN` на `0` или `-1` - подобная обработка внесет искажение в построение графиков по данному столбцу и помешает корректной проверке гипотез. \n",
    "\n",
    "\n",
    "Соответственно, оставим данное поле без дальнейших изменений"
   ]
  },
  {
   "cell_type": "markdown",
   "id": "d9196f5a",
   "metadata": {},
   "source": [
    "**`rating` — возрастной рейтинг от организации ESRB**"
   ]
  },
  {
   "cell_type": "markdown",
   "id": "2f8ae771",
   "metadata": {},
   "source": [
    "Получим количество уникальных обозначений рейтинга, тем самым проверив данное поле на корректность значений:"
   ]
  },
  {
   "cell_type": "code",
   "execution_count": 22,
   "id": "f4640a8f",
   "metadata": {},
   "outputs": [
    {
     "data": {
      "text/plain": [
       "E       3990\n",
       "T       2961\n",
       "M       1563\n",
       "E10+    1420\n",
       "EC         8\n",
       "RP         3\n",
       "K-A        3\n",
       "AO         1\n",
       "Name: rating, dtype: int64"
      ]
     },
     "execution_count": 22,
     "metadata": {},
     "output_type": "execute_result"
    }
   ],
   "source": [
    "# получение количества уникальных значений по столбцу 'rating' методом value_counts()\n",
    "games.rating.value_counts()"
   ]
  },
  {
   "cell_type": "markdown",
   "id": "8c9ead19",
   "metadata": {},
   "source": [
    "Заменим редкие значения рейтинга на более распространенные:\n",
    "1. Для рейтинга `EC` («Early childhood» - «Для детей младшего возраста») это будет `E` («Everyone» — «Для всех»)\n",
    "2. `RP` («Rating Pending» - «Рейтинг ожидается») можно заменить `NaN`\n",
    "3. `K-A` («Kids to Adults») - первоначальное название рейтинга `E`\n",
    "4. `AO` («Adults Only 18+» - «Только для взрослых») можем заменить на `M` («Mature» — «Для взрослых»)\n",
    "\n",
    "Внесем соответствующие изменения:"
   ]
  },
  {
   "cell_type": "code",
   "execution_count": 23,
   "id": "6f0d901f",
   "metadata": {},
   "outputs": [],
   "source": [
    "# замена значений по столбцу 'rating' методом replace() с помощью словаря замен\n",
    "games.rating = games.rating.replace({'EC': 'E', 'RP': np.nan, 'K-A': 'E', 'AO': 'M'})"
   ]
  },
  {
   "cell_type": "markdown",
   "id": "e0f9d701",
   "metadata": {},
   "source": [
    "Также получим число пропусков по столбцу:"
   ]
  },
  {
   "cell_type": "code",
   "execution_count": 24,
   "id": "919a349d",
   "metadata": {},
   "outputs": [
    {
     "data": {
      "text/plain": [
       "6767"
      ]
     },
     "execution_count": 24,
     "metadata": {},
     "output_type": "execute_result"
    }
   ],
   "source": [
    "# получение количества значений 'NaN' по столбцу 'rating'\n",
    "games.rating.isna().sum()"
   ]
  },
  {
   "cell_type": "markdown",
   "id": "901bedbe",
   "metadata": {},
   "source": [
    "Пропуски по столбцу с возрастным рейтингом связаны с самим понятием рейтинга ESRB - негосударственной организации, которая принимает и определяет рейтинги видеоигр *только в США и Канаде*. \n",
    "\n",
    "Из этого можем сделать вывод, что для игр, которые не продавались на территории *Северной Америки* рейтинг ESRB не требуется и возможно заменить его на соответствующее значение `not required` - \"не требуется\":"
   ]
  },
  {
   "cell_type": "code",
   "execution_count": 25,
   "id": "341eac7f",
   "metadata": {},
   "outputs": [
    {
     "data": {
      "text/plain": [
       "3033"
      ]
     },
     "execution_count": 25,
     "metadata": {},
     "output_type": "execute_result"
    }
   ],
   "source": [
    "# замена значений 'NaN' по столбцу 'rating' методом update() на 'not required'  \n",
    "# по условию нулевых продаж в Северной Америке с помощью метода fillna()\n",
    "games.rating.update(games[(games['rating'].isna()) & (games['na_sales'] == 0)]['rating'].fillna('not required'))\n",
    "\n",
    "# проверка - получение количества значений 'NaN' по столбцу 'rating'\n",
    "games.rating.isna().sum()"
   ]
  },
  {
   "cell_type": "markdown",
   "id": "8dbd2f92",
   "metadata": {},
   "source": [
    "Подобным образом удалось обработать более трех с половиной тысяч пропусков.\n",
    "\n",
    "Также заменим оставшиеся значения `NaN` на их словесное описание `not indicated` - \"не указано\" - это понадобится для последующего агрегирования по возрастному рейтингу и оценки полной картины разнообразия рейтингов:"
   ]
  },
  {
   "cell_type": "code",
   "execution_count": 26,
   "id": "74be2c33",
   "metadata": {},
   "outputs": [
    {
     "data": {
      "text/plain": [
       "0"
      ]
     },
     "execution_count": 26,
     "metadata": {},
     "output_type": "execute_result"
    }
   ],
   "source": [
    "# замена значений 'NaN' по столбцу 'rating' методом fillna() на 'not indicated'  \n",
    "games.rating.fillna('not indicated', inplace=True)\n",
    "\n",
    "# проверка - получение количества значений 'NaN' по столбцу 'rating'\n",
    "games.rating.isna().sum()"
   ]
  },
  {
   "cell_type": "markdown",
   "id": "b24cd845",
   "metadata": {},
   "source": [
    "Для повышения скорости обработки значений и минимизации используемой памяти приведем данный столбец к категориальному типу `category`:"
   ]
  },
  {
   "cell_type": "code",
   "execution_count": 27,
   "id": "646c48e3",
   "metadata": {},
   "outputs": [],
   "source": [
    "# приведение столбца 'rating' к категориальному типу методом astype()\n",
    "games.rating = games.rating.astype('category')"
   ]
  },
  {
   "cell_type": "markdown",
   "id": "a51c0192",
   "metadata": {},
   "source": [
    "**Расчет и добавление в таблицу суммарных продаж по всем регионам**"
   ]
  },
  {
   "cell_type": "markdown",
   "id": "93202523",
   "metadata": {},
   "source": [
    "В столбец `total_sales` добавим сумму продаж по всем регионам и разместим его после столбца `other_sales`:"
   ]
  },
  {
   "cell_type": "code",
   "execution_count": 28,
   "id": "d1d46422",
   "metadata": {},
   "outputs": [],
   "source": [
    "# создание столбца 'total_sales' как суммы столбцов 'na_sales', 'eu_sales', 'jp_sales' и 'other_sales'\n",
    "games['total_sales'] = games.na_sales + games.eu_sales + games.jp_sales + games.other_sales\n",
    "\n",
    "# размещение столбца 'total_sales' после столбца 'other_sales' методами insert() - вставка и pop() - извлечение\n",
    "games.insert(games.columns.get_loc('other_sales')+1,'total_sales', games.pop('total_sales'))"
   ]
  },
  {
   "cell_type": "markdown",
   "id": "60269279",
   "metadata": {},
   "source": [
    "Получим первые десять строк и полную информацию о таблице:"
   ]
  },
  {
   "cell_type": "code",
   "execution_count": 29,
   "id": "4747c0a2",
   "metadata": {},
   "outputs": [
    {
     "data": {
      "text/html": [
       "<div>\n",
       "<style scoped>\n",
       "    .dataframe tbody tr th:only-of-type {\n",
       "        vertical-align: middle;\n",
       "    }\n",
       "\n",
       "    .dataframe tbody tr th {\n",
       "        vertical-align: top;\n",
       "    }\n",
       "\n",
       "    .dataframe thead th {\n",
       "        text-align: right;\n",
       "    }\n",
       "</style>\n",
       "<table border=\"1\" class=\"dataframe\">\n",
       "  <thead>\n",
       "    <tr style=\"text-align: right;\">\n",
       "      <th></th>\n",
       "      <th>name</th>\n",
       "      <th>platform</th>\n",
       "      <th>year_of_release</th>\n",
       "      <th>genre</th>\n",
       "      <th>na_sales</th>\n",
       "      <th>eu_sales</th>\n",
       "      <th>jp_sales</th>\n",
       "      <th>other_sales</th>\n",
       "      <th>total_sales</th>\n",
       "      <th>critic_score</th>\n",
       "      <th>user_score</th>\n",
       "      <th>rating</th>\n",
       "    </tr>\n",
       "  </thead>\n",
       "  <tbody>\n",
       "    <tr>\n",
       "      <td>0</td>\n",
       "      <td>Wii Sports</td>\n",
       "      <td>Wii</td>\n",
       "      <td>2006.0</td>\n",
       "      <td>Sports</td>\n",
       "      <td>41.36</td>\n",
       "      <td>28.96</td>\n",
       "      <td>3.77</td>\n",
       "      <td>8.45</td>\n",
       "      <td>82.54</td>\n",
       "      <td>76.0</td>\n",
       "      <td>8.0</td>\n",
       "      <td>E</td>\n",
       "    </tr>\n",
       "    <tr>\n",
       "      <td>1</td>\n",
       "      <td>Super Mario Bros.</td>\n",
       "      <td>NES</td>\n",
       "      <td>1985.0</td>\n",
       "      <td>Platform</td>\n",
       "      <td>29.08</td>\n",
       "      <td>3.58</td>\n",
       "      <td>6.81</td>\n",
       "      <td>0.77</td>\n",
       "      <td>40.24</td>\n",
       "      <td>NaN</td>\n",
       "      <td>NaN</td>\n",
       "      <td>not indicated</td>\n",
       "    </tr>\n",
       "    <tr>\n",
       "      <td>2</td>\n",
       "      <td>Mario Kart Wii</td>\n",
       "      <td>Wii</td>\n",
       "      <td>2008.0</td>\n",
       "      <td>Racing</td>\n",
       "      <td>15.68</td>\n",
       "      <td>12.76</td>\n",
       "      <td>3.79</td>\n",
       "      <td>3.29</td>\n",
       "      <td>35.52</td>\n",
       "      <td>82.0</td>\n",
       "      <td>8.3</td>\n",
       "      <td>E</td>\n",
       "    </tr>\n",
       "    <tr>\n",
       "      <td>3</td>\n",
       "      <td>Wii Sports Resort</td>\n",
       "      <td>Wii</td>\n",
       "      <td>2009.0</td>\n",
       "      <td>Sports</td>\n",
       "      <td>15.61</td>\n",
       "      <td>10.93</td>\n",
       "      <td>3.28</td>\n",
       "      <td>2.95</td>\n",
       "      <td>32.77</td>\n",
       "      <td>80.0</td>\n",
       "      <td>8.0</td>\n",
       "      <td>E</td>\n",
       "    </tr>\n",
       "    <tr>\n",
       "      <td>4</td>\n",
       "      <td>Pokemon Red/Pokemon Blue</td>\n",
       "      <td>GB</td>\n",
       "      <td>1996.0</td>\n",
       "      <td>Role-Playing</td>\n",
       "      <td>11.27</td>\n",
       "      <td>8.89</td>\n",
       "      <td>10.22</td>\n",
       "      <td>1.00</td>\n",
       "      <td>31.38</td>\n",
       "      <td>NaN</td>\n",
       "      <td>NaN</td>\n",
       "      <td>not indicated</td>\n",
       "    </tr>\n",
       "  </tbody>\n",
       "</table>\n",
       "</div>"
      ],
      "text/plain": [
       "                       name platform  year_of_release         genre  na_sales  \\\n",
       "0                Wii Sports      Wii           2006.0        Sports     41.36   \n",
       "1         Super Mario Bros.      NES           1985.0      Platform     29.08   \n",
       "2            Mario Kart Wii      Wii           2008.0        Racing     15.68   \n",
       "3         Wii Sports Resort      Wii           2009.0        Sports     15.61   \n",
       "4  Pokemon Red/Pokemon Blue       GB           1996.0  Role-Playing     11.27   \n",
       "\n",
       "   eu_sales  jp_sales  other_sales  total_sales  critic_score  user_score  \\\n",
       "0     28.96      3.77         8.45        82.54          76.0         8.0   \n",
       "1      3.58      6.81         0.77        40.24           NaN         NaN   \n",
       "2     12.76      3.79         3.29        35.52          82.0         8.3   \n",
       "3     10.93      3.28         2.95        32.77          80.0         8.0   \n",
       "4      8.89     10.22         1.00        31.38           NaN         NaN   \n",
       "\n",
       "          rating  \n",
       "0              E  \n",
       "1  not indicated  \n",
       "2              E  \n",
       "3              E  \n",
       "4  not indicated  "
      ]
     },
     "metadata": {},
     "output_type": "display_data"
    },
    {
     "name": "stdout",
     "output_type": "stream",
     "text": [
      "<class 'pandas.core.frame.DataFrame'>\n",
      "Int64Index: 16713 entries, 0 to 16714\n",
      "Data columns (total 12 columns):\n",
      "name               16713 non-null object\n",
      "platform           16713 non-null category\n",
      "year_of_release    16461 non-null float64\n",
      "genre              16713 non-null category\n",
      "na_sales           16713 non-null float64\n",
      "eu_sales           16713 non-null float64\n",
      "jp_sales           16713 non-null float64\n",
      "other_sales        16713 non-null float64\n",
      "total_sales        16713 non-null float64\n",
      "critic_score       8137 non-null float64\n",
      "user_score         7589 non-null float64\n",
      "rating             16713 non-null category\n",
      "dtypes: category(3), float64(8), object(1)\n",
      "memory usage: 1.3+ MB\n"
     ]
    }
   ],
   "source": [
    "# получение первых 5 строк таблицы методом head()\n",
    "display(games.head())\n",
    "\n",
    "# получение информации о таблице методом info()\n",
    "games.info()"
   ]
  },
  {
   "cell_type": "markdown",
   "id": "60c69168",
   "metadata": {},
   "source": [
    "### Вывод\n",
    "\n",
    "---\n",
    "\n",
    "В ходе первого этапа исследования проведена *первоначальная предобработка данных*. Результаты по итогу:\n",
    "\n",
    "* Названия столбцов приведены к нижнему регистру\n",
    "* Создана функция для вывода количества скрытых аномалий `show_artifacts`\n",
    "* Обработаны пропуски и некорректные значения:\n",
    "    * удалены записи с пропусками по столбцу `name`\n",
    "    * по полю `year_of_release` - значения для замены взяты из названий видеоигр\n",
    "    * по столбцу `rating` -  некорректные значения `tbd` - \"требует уточнения\" заменены на `NaN`, для видеоигр, не выходивших на североамериканском рынке указано значение `not required` - \"не требуется\", для игр без указания рейтинга `not indicated` - \"не указано\"\n",
    "    * редкие и некорректные значения рейтинга в столбце `rating` заменены на более распространенные в имеющемся датасете или на `NaN`\n",
    "* проверены на валидность данные в столбцах `platform`, `na_sales`, `eu_sales`, `jp_sales`, `other_sales` и `rating`\n",
    "* приведены типы данных к более корректным в столбцах: `user_score` к `float`, для повышения скорости обработки значений и минимизации используемой памяти `platform`, `genre` и `rating` к типу `object`\n",
    "* был рассчитан и добавлен в таблицу столбец `total_sales` - сумма продаж по всем регионам\n",
    "\n",
    "Пропуски и некорректные значения в большей степени обусловлены техническими проблемами - ошибками при получении данных либо получением их из разных источников. Также немаловероятно само отсутствие данных в источниках\n",
    "\n",
    "---"
   ]
  },
  {
   "cell_type": "markdown",
   "id": "34ed8716",
   "metadata": {},
   "source": [
    "## Исследовательский анализ данных\n",
    "\n",
    "---"
   ]
  },
  {
   "cell_type": "markdown",
   "id": "72ec8853",
   "metadata": {},
   "source": [
    "### Важны ли данные за все периоды выпуска игр?\n",
    "\n",
    "---"
   ]
  },
  {
   "cell_type": "markdown",
   "id": "04394869",
   "metadata": {},
   "source": [
    "Сгруппируем в переменной `groupby_years` количество игр по годам релиза и построим линейный график:"
   ]
  },
  {
   "cell_type": "code",
   "execution_count": 30,
   "id": "4bbd5c19",
   "metadata": {},
   "outputs": [
    {
     "data": {
      "image/png": "[encoded data removed]",
      "text/plain": [
       "<Figure size 864x432 with 1 Axes>"
      ]
     },
     "metadata": {
      "needs_background": "light"
     },
     "output_type": "display_data"
    }
   ],
   "source": [
    "# группировка методом groupby() количества игр 'name' по годам релиза 'year_of_release'\n",
    "# с сохранением в переменной 'groupby_years'\n",
    "groupby_years = games.groupby('year_of_release')['name'].count().reset_index()\n",
    "\n",
    "# установление размера поля figsize=(12, 6)\n",
    "plt.figure(figsize=(12, 6))\n",
    "\n",
    "# вывод подписи графика\n",
    "plt.title('График количества видеоигр по годам релиза')\n",
    "\n",
    "# построение линейного графика методом lineplot() со значениями по оси абсцисс x,\n",
    "# по оси ординат y с толщиной линии = 2.5 и соответствующими подписями\n",
    "sns.lineplot(x=groupby_years['year_of_release'], y=groupby_years['name'],\\\n",
    "             color='seagreen', linewidth=2.5).\\\n",
    "             set(xlabel='Год релиза', ylabel='Количество игр')\n",
    "\n",
    "# добавление красной горизонтальной прерывистой линии по y=500\n",
    "plt.axhline(y=500, ls=':', c='red')\n",
    "\n",
    "# активация второстепенных делений осей\n",
    "plt.minorticks_on()\n",
    "# отображение основной сетки grid() 'major' и определение внешнего вида линий\n",
    "plt.grid(which='major', color = 'k', linewidth = 0.2)\n",
    "# отображение второстепенной сетки grid() 'minor' определение внешнего вида линий\n",
    "plt.grid(which='minor', color = 'k', linewidth = 0.3, linestyle = ':')\n",
    "    \n",
    "# показ графиков\n",
    "plt.show()"
   ]
  },
  {
   "cell_type": "markdown",
   "id": "b36273f0",
   "metadata": {},
   "source": [
    "Резко выделяется период **2001-2016 годов** - в год выпускалось не менее **500 видеоигр**. <br/>\n",
    "Это связано, в первую очередь, с прогрессом в индустрии - появлением новых платформ и более мощного железа, а также создания новых средств визуализации и игровых движков.\n",
    "\n",
    "**Отсечем игры до 2001 года и сохраним оставшееся в переменной `games_actual`** для последующего уточнения актуального периода на основе анализа актуальных игровых платформ:"
   ]
  },
  {
   "cell_type": "code",
   "execution_count": 31,
   "id": "6746285c",
   "metadata": {},
   "outputs": [],
   "source": [
    "# получение среза таблицы games методом query() по условию \n",
    "# year_of_release >= 2001 с сохранением в переменной 'games_actual'\n",
    "games_actual = games.query('year_of_release >= 2001').reset_index(drop=True)\n",
    "\n",
    "# удаление неиспользуемых категорий столбца 'platform'\n",
    "games_actual.platform.cat.remove_unused_categories(inplace=True)"
   ]
  },
  {
   "cell_type": "markdown",
   "id": "0d04f4f2",
   "metadata": {},
   "source": [
    "### За какой характерный срок появляются новые и исчезают старые платформы?\n",
    "\n",
    "---"
   ]
  },
  {
   "cell_type": "markdown",
   "id": "83936db0",
   "metadata": {},
   "source": [
    "Произведем с помощью сводной таблицы группировку по платформам и годам релиза игр с расчетом суммарных продаж по годам. Далее построим график продаж видеоигр в разрезе популярных платформ по годам релиза, для чего создадим функцию `plot_pivot_platform_lineplot()`:"
   ]
  },
  {
   "cell_type": "code",
   "execution_count": 32,
   "id": "8ee49411",
   "metadata": {},
   "outputs": [],
   "source": [
    "# создание функции plot_pivot_platform_lineplot()\n",
    "def plot_pivot_platform_lineplot():\n",
    "    '''\n",
    "    Агрегирует в сводной таблице строки таблицы 'games_actual' по годам\n",
    "    релиза и платформам и возвращает соответствующий линейный график \n",
    "    продаж видеоигр в разрезе популярных платформ по годам релиза\n",
    "    '''\n",
    "    # группировка по столбцу 'platform' и 'year_of_release' методом pivot_table() с агрегированием\n",
    "    # суммы по столбцу 'total_sales' методом sum() с сохранением в переменной pivot_platform\n",
    "    pivot_platform = games_actual.pivot_table(index=['platform', 'year_of_release'],\\\n",
    "                                          values='total_sales', aggfunc='sum').reset_index()\n",
    "\n",
    "    # вывод подписи графика\n",
    "    plt.title('График продаж видеоигр в разрезе популярных платформ по годам релиза')\n",
    "\n",
    "    # построение линейного графика методом lineplot() со значениями по оси абсцисс x, по оси\n",
    "    # ординат y, категориями hue и hue_order с толщиной линий = 2.5 и соответствующими подписями\n",
    "    ax = sns.lineplot(x=pivot_platform['year_of_release'], y=pivot_platform['total_sales'],\\\n",
    "                hue=pivot_platform['platform'], linewidth=2.5)\n",
    "    \n",
    "    # добавление соответствующих подписей осей \n",
    "    ax.set_xlabel('Год релиза')\n",
    "    ax.set_ylabel('Сумма продаж за год, млн. копий')\n",
    "\n",
    "    # активация отображения целочисленных значений по оси абсцисс\n",
    "    ax.xaxis.set_major_locator(ticker.MaxNLocator(integer=True))\n",
    "\n",
    "    # активация второстепенных делений осей\n",
    "    plt.minorticks_on()\n",
    "    # отображение основной сетки grid() 'major' и определение внешнего вида линий\n",
    "    plt.grid(which='major', color = 'k', linewidth = 0.2)\n",
    "    # отображение второстепенной сетки grid() 'minor' определение внешнего вида линий\n",
    "    plt.grid(which='minor', color = 'k', linewidth = 0.3, linestyle = ':')"
   ]
  },
  {
   "cell_type": "code",
   "execution_count": 33,
   "id": "b1dcea7a",
   "metadata": {},
   "outputs": [
    {
     "data": {
      "image/png": "[encoded data removed]",
      "text/plain": [
       "<Figure size 1080x504 with 1 Axes>"
      ]
     },
     "metadata": {
      "needs_background": "light"
     },
     "output_type": "display_data"
    }
   ],
   "source": [
    "# установление размера поля figsize=(15, 7)\n",
    "plt.figure(figsize=(15, 7))\n",
    "\n",
    "# вызов функции plot_pivot_platform_lineplot()\n",
    "plot_pivot_platform_lineplot()"
   ]
  },
  {
   "cell_type": "markdown",
   "id": "4383e13e",
   "metadata": {},
   "source": [
    "По графику наблюдаем, что появившиеся в 2000-х годах платформы, которые занимают ведущие места в мире по суммарному количеству продаж, доживают свой век на рынке видеоигр к интересующему нас 2017 году. Поэтому, брать данные платформы в расчет большого смысла не имеет. \n",
    "\n",
    "В 2013 году на рынок выходят *Sony PlayStation 4* и *Microsoft Xbox One*, являющиеся новым поколением игровых консолей. Исходя из этого, для дальнейшего анализа **ограничимся актуальным периодом с 2013 по 2016 год** и обновим по этому условию срез данных в таблице `games_actual`:"
   ]
  },
  {
   "cell_type": "code",
   "execution_count": 34,
   "id": "749362fe",
   "metadata": {},
   "outputs": [
    {
     "data": {
      "text/plain": [
       "(2234, 12)"
      ]
     },
     "execution_count": 34,
     "metadata": {},
     "output_type": "execute_result"
    }
   ],
   "source": [
    "# получение среза таблицы games методом query() по условию \n",
    "# year_of_release >= 2013 с сохранением в переменной 'games_actual'\n",
    "games_actual = games_actual.query('year_of_release >= 2013').reset_index(drop=True)\n",
    "\n",
    "# удаление неиспользуемых категорий столбца 'platform'\n",
    "games_actual.platform.cat.remove_unused_categories(inplace=True)\n",
    "\n",
    "# получение размера таблицы games_actual методом shape\n",
    "games_actual.shape"
   ]
  },
  {
   "cell_type": "markdown",
   "id": "e5b09692",
   "metadata": {},
   "source": [
    "С таблицей **`games_actual`** и будем работать в дальнейшем"
   ]
  },
  {
   "cell_type": "markdown",
   "id": "be743a65",
   "metadata": {},
   "source": [
    "### Какие платформы лидируют по продажам, растут или падают?\n",
    "\n",
    "---"
   ]
  },
  {
   "cell_type": "markdown",
   "id": "f84e76a7",
   "metadata": {},
   "source": [
    "Выявим лидирующие по продажам в актуальном периоде платформы с помощью группировки:"
   ]
  },
  {
   "cell_type": "code",
   "execution_count": 35,
   "id": "049300ed",
   "metadata": {
    "scrolled": true
   },
   "outputs": [
    {
     "data": {
      "text/plain": [
       "platform\n",
       "PS4     314.14\n",
       "PS3     181.43\n",
       "XOne    159.32\n",
       "3DS     143.25\n",
       "X360    136.80\n",
       "WiiU     64.63\n",
       "PC       39.78\n",
       "PSV      32.99\n",
       "Wii      13.66\n",
       "PSP       3.50\n",
       "Name: total_sales, dtype: float64"
      ]
     },
     "execution_count": 35,
     "metadata": {},
     "output_type": "execute_result"
    }
   ],
   "source": [
    "# группировка по столбцу 'platform' методом groupby() с агрегированием\n",
    "# суммы по столбцу 'total_sales' методом sum() и вывод 10 самых больших \n",
    "# значений методом nlargest()\n",
    "games_actual.groupby('platform')['total_sales'].sum().nlargest(10)"
   ]
  },
  {
   "cell_type": "markdown",
   "id": "d46eaa25",
   "metadata": {},
   "source": [
    "Наблюдаем **топ-5 лидирующих по продажам в актуальном периоде платформ**:\n",
    "\n",
    "1. `PS4` - Sony PlayStation 4\n",
    "2. `PS3` - Sony PlayStation 3\n",
    "3. `XOne` - Microsoft Xbox One\n",
    "4. `3DS` - Nintendo 3DS\n",
    "5. `X360` - Microsoft Xbox 360\n",
    "\n",
    "\n",
    "Далее необходимо провести визуальную оценку роста и падения суммы продаж по платформам за последнее время для выявления потенциально прибыльных платформ на будущий период.\n",
    "\n",
    "С этой целью используем ранее созданную функцию `plot_pivot_platform_lineplot()`:"
   ]
  },
  {
   "cell_type": "code",
   "execution_count": 36,
   "id": "e2539f92",
   "metadata": {},
   "outputs": [
    {
     "data": {
      "image/png": "[encoded data removed]",
      "text/plain": [
       "<Figure size 864x432 with 1 Axes>"
      ]
     },
     "metadata": {
      "needs_background": "light"
     },
     "output_type": "display_data"
    }
   ],
   "source": [
    "# установление размера поля figsize=(12, 6)\n",
    "plt.figure(figsize=(12, 6))\n",
    "\n",
    "# вызов функции plot_pivot_platform_lineplot()\n",
    "plot_pivot_platform_lineplot()"
   ]
  },
  {
   "cell_type": "markdown",
   "id": "9e6a343c",
   "metadata": {},
   "source": [
    "Прослеживается **тенденция к падению продаж видеоигр по всем платформам за последние несколько лет** - вероятно, ввиду роста популярности мобильного гейминга и *Free-to-play* игр с микротранзациями. Относительно **перспективные на будущий период** по сравнению с другими игровые платформы:\n",
    "\n",
    "1. `PS4` - Sony PlayStation 4\n",
    "2. `XOne` - Microsoft Xbox One\n",
    "3. `3DS` - Nintendo 3DS"
   ]
  },
  {
   "cell_type": "markdown",
   "id": "5ed86595",
   "metadata": {},
   "source": [
    "### Построение боксплота по глобальным продажам игр в разбивке по платформам\n",
    "\n",
    "---"
   ]
  },
  {
   "cell_type": "markdown",
   "id": "19fd1648",
   "metadata": {},
   "source": [
    "Создадим функцию `plot_boxplot()` для построения коробчатых диаграмм по столбцу `total_sales` в разрезе категорий столбца - аргумента `column`:"
   ]
  },
  {
   "cell_type": "code",
   "execution_count": 37,
   "id": "e806a294",
   "metadata": {
    "scrolled": false
   },
   "outputs": [],
   "source": [
    "# создание функции plot_boxplot() с аргументами 'column', 'title' и 'xlabel'\n",
    "def plot_boxplot(column, title, xlabel):\n",
    "    '''\n",
    "    Возвращает коробчатую диаграмму по столбцу 'total_sales' в разрезе \n",
    "    категорий столбца - аргумента 'column', с подписью графика 'title',\n",
    "    и подписью оси абсцисс 'xlabel', построенную методом sns.boxplot()\n",
    "    '''\n",
    "    # установление размера поля figsize=(16, 8)\n",
    "    plt.figure(figsize=(16, 8))\n",
    "\n",
    "    # вывод подписи графика\n",
    "    plt.title(title, fontsize=15)\n",
    "\n",
    "    # построение нормализованной (showfliers=False) коробчатой диаграммы столбца 'total_sales' по \n",
    "    # категориям столбца 'column' методом boxplot() с соответствующими подписями 'xlabel' и 'ylabel'\n",
    "    sns.boxplot(x=games_actual[column], y=games_actual['total_sales'], showfliers=False).\\\n",
    "                set(xlabel=xlabel, ylabel='Продажи видеоигр, млн. копий')\n",
    "\n",
    "    # активация второстепенных делений осей\n",
    "    plt.minorticks_on()\n",
    "    # отображение основной сетки grid() 'major' и определение внешнего вида линий\n",
    "    plt.grid(which='major', color = 'k', linewidth = 0.2)\n",
    "    # отображение второстепенной сетки grid() 'minor' определение внешнего вида линий\n",
    "    plt.grid(which='minor', color = 'k', linewidth = 0.3, linestyle = ':')"
   ]
  },
  {
   "cell_type": "markdown",
   "id": "d26cc04f",
   "metadata": {},
   "source": [
    "С помощью функции `plot_boxplot()` построим коробчатую диаграмму в разрезе игровых платформ - категорий столбца `platform`:"
   ]
  },
  {
   "cell_type": "code",
   "execution_count": 38,
   "id": "3cf2f0c4",
   "metadata": {},
   "outputs": [
    {
     "data": {
      "image/png": "[encoded data removed]",
      "text/plain": [
       "<Figure size 1152x576 with 1 Axes>"
      ]
     },
     "metadata": {
      "needs_background": "light"
     },
     "output_type": "display_data"
    }
   ],
   "source": [
    "# вызов функции plot_boxplot() с аргументами 'platform' и соответствующими подписями\n",
    "plot_boxplot('platform',\\\n",
    "             'Боксплот по глобальным продажам игр в разрезе платформ',\\\n",
    "             'Игровые платформы')"
   ]
  },
  {
   "cell_type": "markdown",
   "id": "85b9f6a0",
   "metadata": {},
   "source": [
    "Платформа с **самой высокой медианой продаж видеоигр в актуальном периоде** - *Xbox 360*, но, как было указано выше, она уже доживает свой век на рынке, уступая не менее крупным по продажам преемникам - актуальным ***Xbox One*** и ***PlayStation 4***. Относительно перспективная в следующем году платформа *Nintendo 3DS* невысока в продажах, вероятно, по причине большей популярности в Японии. Платформа *Wii* и ее портативный преемник *Wii U* также заметно высоки в продажах, но уходят на второй план в связи устареванием и прекращением поддержки.\n",
    "\n",
    "**Самые низкие по продажам** - несколько актуальные по времени, но падающие в продажах платформы ***PlayStation Vita*** и ***PlayStation Portable*** - вииду широко распространения мобильных игр и отказа от портативных консолей."
   ]
  },
  {
   "cell_type": "markdown",
   "id": "dc281cda",
   "metadata": {},
   "source": [
    "### Определение влияния на продажи внутри игровой платформы отзывов пользователей и критиков\n",
    "\n",
    "---"
   ]
  },
  {
   "cell_type": "markdown",
   "id": "fb8ac7ff",
   "metadata": {},
   "source": [
    "С целью автоматизации построения графиков создадим функцию `plot_scatter_heatmap()`, которая будет возвращать диаграмму рассеяния (*scatter*) оценок критиков и пользователей по продажам, а также тепловую карту (*heatmap*) корреляции данных значений по переданной в качестве аргумента игровой платформе `platform`:"
   ]
  },
  {
   "cell_type": "code",
   "execution_count": 39,
   "id": "e32a4e4f",
   "metadata": {},
   "outputs": [],
   "source": [
    "# создание функции plot_scatterplot() с аргументом 'platform'\n",
    "def plot_scatter_heatmap(platform, suptitle):\n",
    "    '''\n",
    "    Возвращает графики по срезу таблицы games_actual['platform'] == platform:\n",
    "    \n",
    "    1. Диаграмма рассеяния оценок критиков (столбец 'critic_score') по продажам \n",
    "       (столбец 'total_sales') внутри игровой платформы platform\n",
    "       \n",
    "    2. Диаграмма рассеяния оценок пользователей (столбец 'user_score') по продажам \n",
    "       (столбец 'total_sales') внутри игровой платформы platform\n",
    "       \n",
    "    3. Тепловая карта корреляции оценок критиков и пользователей по продажам внутри  \n",
    "       игровой платформы platform\n",
    "    '''\n",
    "    # получение среза таблицы games_actual по условию \n",
    "    # 'platform' == 'platform' с сохранением в переменной 'platform_cut'\n",
    "    platform_cut = games_actual[games_actual['platform'] == platform]\n",
    "\n",
    "    # установление отображения трех графиков ncols=3 и размера поля figsize=(16, 5)\n",
    "    fig, ax = plt.subplots(ncols=3, figsize=(16, 5))\n",
    "\n",
    "    # отображение основной надписи фигуры\n",
    "    fig.suptitle(suptitle)\n",
    "\n",
    "    # построение диаграмм рассеяния методом scatterplot() со значениями по оси абсцисс 'x', по оси  \n",
    "    # ординат 'y', цветом 'color', расположением 'ax' и соответствующими подписями 'xlabel' и 'ylabel'\n",
    "    sns.scatterplot(x=platform_cut['critic_score'], y=platform_cut['total_sales'], color='seagreen', ax=ax[0]).\\\n",
    "                    set(xlabel='Оценки критиков', ylabel='Продажи видеоигр, млн. копий')\n",
    "\n",
    "    sns.scatterplot(x=platform_cut['user_score'], y=platform_cut['total_sales'], color='goldenrod', ax=ax[1]).\\\n",
    "                    set(xlabel='Оценки пользователей', ylabel='Продажи видеоигр, млн. копий')\n",
    "    \n",
    "    # построение тепловой карты корреляции по столбцам таблицы platform_cut методом heatmap() с \n",
    "    # отображением коэфф. корреляции (annot=True, fmt='.2g'), регулировкой измерительной шкалы \n",
    "    # (vmin=-1, vmax=1, center= 0, cbar_kws= {'orientation': 'horizontal'}), параметрами линий  \n",
    "    # (linewidths=1, linecolor='white'), цветовой гаммой cmap='BrBG' и расположением 'ax'\n",
    "    sns.heatmap(platform_cut[['critic_score', 'user_score', 'total_sales']].corr(),\\\n",
    "                annot=True, fmt='.2g', vmin=-1, vmax=1, center= 0,\\\n",
    "                cbar_kws={'orientation': 'horizontal'},\\\n",
    "                linewidths=1, linecolor='white', cmap='BrBG', ax=ax[2])\n",
    "\n",
    "    # показ графиков\n",
    "    plt.show()"
   ]
  },
  {
   "cell_type": "markdown",
   "id": "e3346ac7",
   "metadata": {},
   "source": [
    "Применим функцию `plot_scatter_heatmap()` к трем потенциально прибыльным платформам - `PS4`, `XOne` и `3DS`:"
   ]
  },
  {
   "cell_type": "code",
   "execution_count": 40,
   "id": "9e7cc5c5",
   "metadata": {},
   "outputs": [
    {
     "data": {
      "image/png": "[encoded data removed]",
      "text/plain": [
       "<Figure size 1152x360 with 4 Axes>"
      ]
     },
     "metadata": {
      "needs_background": "light"
     },
     "output_type": "display_data"
    },
    {
     "data": {
      "image/png": "[encoded data removed]",
      "text/plain": [
       "<Figure size 1152x360 with 4 Axes>"
      ]
     },
     "metadata": {
      "needs_background": "light"
     },
     "output_type": "display_data"
    },
    {
     "data": {
      "image/png": "[encoded data removed]",
      "text/plain": [
       "<Figure size 1152x360 with 4 Axes>"
      ]
     },
     "metadata": {
      "needs_background": "light"
     },
     "output_type": "display_data"
    }
   ],
   "source": [
    "#вызов функции plot_scatter_heatmap() с аргументами 'PS4' и соотвествующей подписью\n",
    "plot_scatter_heatmap('PS4',\\\n",
    "'Диаграмма рассеяния и тепловая карта корреляции оценок критиков и пользователей по продажам платформы Sony PlayStation 4')\n",
    "\n",
    "#вызов функции plot_scatter_heatmap() с аргументами 'XOne' и соотвествующей подписью\n",
    "plot_scatter_heatmap('XOne',\\\n",
    "'Диаграмма рассеяния и тепловая карта корреляции оценок критиков и пользователей по продажам платформы Microsoft Xbox One')\n",
    "\n",
    "#вызов функции plot_scatter_heatmap() с аргументами '3DS' и соотвествующей подписью\n",
    "plot_scatter_heatmap('3DS',\\\n",
    "'Диаграмма рассеяния и тепловая карта корреляции оценок критиков и пользователей по продажам платформы Nintendo 3DS')"
   ]
  },
  {
   "cell_type": "markdown",
   "id": "fb354c97",
   "metadata": {},
   "source": [
    "Исходя из визуального анализа графиков и расчетов корреляции можем утверждать, что:\n",
    "* **корреляция между отзывами критиков и продажами игр по трем потенциально прибыльным платформам слабая** и составляет *0.36-0.42*\n",
    "* **корреляция между отзывами пользователей и продажами игр очень слабая**: в случае с *PlayStation 4* и *Xbox One* отрицательная *-0.032* и *-0.069* соответственно, по *Nintendo 3DS* положительная *0.24*\n",
    "* **корреляция между отзывами критиков и отзывами пользователей по прибыльным платформам средняя** и лежит в диапазоне *0.47-0.77*\n",
    "\n",
    "Данные значения корреляции не говорят о причинно-следственной связи. Хоть и на диаграммах рассеяния прослеживается взаимосвязь оценок критиков и продаж игр на перспективных платформах, это не дает повода утверждать, что высокие оценки критиков повышают продажи игр.\n",
    "\n",
    "<br/><br/>\n",
    "\n",
    "Сопоставим значения по по трем потенциально прибыльным платформам с остальными платформами. Получим срез таблицы `games_actual`, не содержащий платформы `PS4`, `XOne` и `3DS`, далее построим тепловую карту корреляции по интересующим оценкам:"
   ]
  },
  {
   "cell_type": "code",
   "execution_count": 41,
   "id": "26b6c424",
   "metadata": {},
   "outputs": [
    {
     "data": {
      "image/png": "[encoded data removed]",
      "text/plain": [
       "<Figure size 432x288 with 2 Axes>"
      ]
     },
     "metadata": {
      "needs_background": "light"
     },
     "output_type": "display_data"
    }
   ],
   "source": [
    "# получение среза остальных платформ таблицы games_actual по условию 'platform'\n",
    "# не равны платформам из топ-3 с сохранением в переменной 'platform_cut'\n",
    "other_platform = games_actual[(games_actual['platform'] != 'PS4') &\\\n",
    "                              (games_actual['platform'] != 'XOne') &\\\n",
    "                              (games_actual['platform'] != '3DS')]\n",
    "\n",
    "# установление размера поля figsize=(6, 4)\n",
    "plt.figure(figsize=(6, 4))\n",
    "\n",
    "# построение тепловой карты корреляции по столбцам таблицы other_platform методом heatmap() с \n",
    "# отображением коэфф. корреляции (annot=True, fmt='.2g'), регулировкой измерительной шкалы \n",
    "# (vmin=-1, vmax=1, center= 0, cbar_kws= {'orientation': 'horizontal'}), параметрами линий  \n",
    "# (linewidths=1, linecolor='white') и цветовой гаммой cmap='BrBG'\n",
    "sns.heatmap(other_platform[['critic_score', 'user_score', 'total_sales']].corr(),\\\n",
    "            annot=True, fmt='.2g', vmin=-1, vmax=1, center= 0,\\\n",
    "            cbar_kws={'orientation': 'horizontal'},\\\n",
    "            linewidths=1, linecolor='white', cmap='BrBG')\n",
    "\n",
    "# вывод изображения графика\n",
    "plt.show()"
   ]
  },
  {
   "cell_type": "markdown",
   "id": "d9a00b79",
   "metadata": {},
   "source": [
    "Наблюдаем примерно ту же картину: **корреляция оценок критиков, пользователей и продаж по остальным платформам очень слабая** (*0.25 и -0.0054* соответственно), **оценок критиков и пользователей средняя** (*0.48*)."
   ]
  },
  {
   "cell_type": "markdown",
   "id": "8cd7a73e",
   "metadata": {},
   "source": [
    "### Что можно сказать о самых прибыльных жанрах? Выделяются ли жанры с высокими и низкими продажами?\n",
    "\n",
    "---"
   ]
  },
  {
   "cell_type": "markdown",
   "id": "708e1268",
   "metadata": {},
   "source": [
    "С помощью функции `plot_boxplot()` построим коробчатую диаграмму в разрезе игровых жанров - категорий столбца `genre`:"
   ]
  },
  {
   "cell_type": "code",
   "execution_count": 42,
   "id": "43d6991e",
   "metadata": {},
   "outputs": [
    {
     "data": {
      "image/png": "[encoded data removed]",
      "text/plain": [
       "<Figure size 1152x576 with 1 Axes>"
      ]
     },
     "metadata": {
      "needs_background": "light"
     },
     "output_type": "display_data"
    }
   ],
   "source": [
    "# вызов функции plot_boxplot() с аргументами 'genre' и соответствующими подписями\n",
    "plot_boxplot('genre',\\\n",
    "             'Боксплот по глобальным продажам игр в разрезе жанров',\\\n",
    "             'Игровые жанры')"
   ]
  },
  {
   "cell_type": "markdown",
   "id": "1d72a4af",
   "metadata": {},
   "source": [
    "**Несомненный лидер продаж - жанр *Shooter***, далее примерно на равных местах *Platform* и *Sports*, за ними *Racing*, *Fighting* и *Role-Playing*. **Наименее популярны - *Puzzle* и *Adventure***"
   ]
  },
  {
   "cell_type": "markdown",
   "id": "f2000219",
   "metadata": {},
   "source": [
    "### Вывод\n",
    "\n",
    "---\n",
    "\n",
    "В данном разделе необходимо было провести *исследовательский анализ данных* - построение графиков, визуальную оценку и расчет коэффициентов корреляции, выявление актуального периода, потенциально прибыльных платформ и жанров. В ходе исследования по данному разделу выявлены следующие факты:\n",
    "\n",
    "* **Актуальный период начиается с 2013 года** - каждый год год выпускается не менее **500 видеоигр** и **появляются актуальные игровые плафтормы**, приходя на место устаревающих лидеров рынка. Это связано, в первую очередь, с прогрессом в индустрии - появлением новых платформ и более мощного железа, а также создания новых средств визуализации и игровых движков <br/> <br/>\n",
    "\n",
    "* **Прослеживается тенденция к падению продаж видеоигр по всем платформам за последние несколько лет** ввиду роста популярности мобильного гейминга и *Free-to-play* игр с микротранзациями. Относительно **перспективные на будущий период** по сравнению с другими игровые платформы:\n",
    "\n",
    "    1. `PS4` - Sony PlayStation 4\n",
    "    2. `XOne` - Microsoft Xbox One\n",
    "    3. `3DS` - Nintendo 3DS  \n",
    "<br/>\n",
    "* Платформа с **самой высокой медианой продаж видеоигр в актуальном периоде** - *Xbox 360*, но она уже доживает свой век на рынке, уступая не менее крупным по продажам преемникам - актуальным ***Xbox One*** и ***PlayStation 4***. Относительно перспективная в следующем году платформа *Nintendo 3DS* невысока в продажах, вероятно, по причине большей популярности в Японии. Платформа *Wii* и ее портативный преемник *Wii U* также заметно высоки в продажах, но уходят на второй план в связи устареванием и прекращением поддержки. <br/> <br/> **Самые низкие по продажам** - несколько актуальные по времени, но падающие в продажах платформы ***PlayStation Vita*** и ***PlayStation Portable*** - вииду широко распространения мобильных игр и отказа от портативных консолей <br/> <br/> \n",
    "\n",
    "* Исходя из визуального анализа графиков и расчетов корреляции можем утверждать, что: <br/> <br/>\n",
    "\n",
    "    * **корреляция между отзывами критиков и продажами игр по трем потенциально прибыльным платформам слабая** и составляет *0.36-0.42*\n",
    "    * **корреляция между отзывами пользователей и продажами игр очень слабая**: в случае с *PlayStation 4* и *Xbox One* отрицательная *-0.032* и *-0.069* соответственно, по *Nintendo 3DS* положительная *0.24*\n",
    "    * **корреляция между отзывами критиков и отзывами пользователей по прибыльным платформам средняя** и лежит в диапазоне *0.47-0.77*\n",
    "    * по остальным платформам наблюдаем примерно ту же картину: **корреляция оценок критиков, пользователей и продаж по остальным платформам очень слабая** (*0.25 и -0.0054* соответственно), **оценок критиков и пользователей средняя** (*0.48*) \n",
    "    \n",
    "    Данные значения корреляции не говорят о причинно-следственной связи. Хоть и на диаграммах рассеяния прослеживается взаимосвязь оценок критиков и продаж игр на перспективных платформах, это не дает повода утверждать, что высокие оценки критиков повышают продажи игр <br/> <br/>\n",
    "\n",
    "* **Несомненный лидер продаж - жанр *Shooter***, далее примерно на равных местах *Platform* и *Sports*, за ними *Racing*, *Fighting* и *Role-Playing*. **Наименее популярны - *Puzzle* и *Adventure***\n",
    "\n",
    "<br/> <br/>\n",
    "\n",
    "**Итоговые выводы:**\n",
    "\n",
    "* **Топ-3 потенциально прибыльных платформ:**\n",
    "    1. `PS4` - Sony PlayStation 4\n",
    "    2. `XOne` - Microsoft Xbox One\n",
    "    3. `3DS` - Nintendo 3DS  \n",
    "<br/> \n",
    "* **Топ-3 прибыльных жанров по актуальному периоду:**\n",
    "    1. `Shooter` - шутеры\n",
    "    2. `Sports` - спорт\n",
    "    3. `Platform` - платформеры (бродилки)\n",
    "<br/> <br/> \n",
    "* **Оценки пользователей и критиков очень слабо влияют на продажи игр по всем платформам**\n",
    "       \n",
    "---"
   ]
  },
  {
   "cell_type": "markdown",
   "id": "67b1c90b",
   "metadata": {},
   "source": [
    "## Cоставление портрета пользователя каждого региона (*NA*, *EU*, *JP*)\n",
    "\n",
    "---"
   ]
  },
  {
   "cell_type": "markdown",
   "id": "d78159d2",
   "metadata": {},
   "source": [
    "Для составления портрета пользователя каждого региона необходимо получить срезы таблицы `games_actual`, содержащие продажи только по необходимому региону - продажи для остальных регионов должны быть равны нулю. Создадим подобные срезы для *Северной Америки*, *Европы* и *Японии* по условиям и сохраним в соответствующих переменных `na_sales`, `eu_users` и `jp_users`:"
   ]
  },
  {
   "cell_type": "code",
   "execution_count": 43,
   "id": "0eeb6c4f",
   "metadata": {},
   "outputs": [
    {
     "name": "stdout",
     "output_type": "stream",
     "text": [
      "na_users (66, 12)\n",
      "eu_users (187, 12)\n",
      "jp_users (636, 12)\n"
     ]
    }
   ],
   "source": [
    "# получение среза таблицы games_actual по условию 'eu_sales' & 'jp_sales' \n",
    "# & 'other_sales' == 0 и сохраение данных строк в переменной 'na_users'\n",
    "na_users = games_actual[(games_actual['eu_sales'] == 0) &\\\n",
    "                        (games_actual['jp_sales'] == 0) &\\\n",
    "                        (games_actual['other_sales'] == 0)]\n",
    "# вывод названия таблицы и ее размеров методом shape\n",
    "print('na_users', na_users.shape)\n",
    "\n",
    "# получение среза таблицы games_actual по условию 'na_sales' & 'jp_sales' \n",
    "# & 'other_sales' == 0 и сохраение данных строк в переменной 'eu_users'\n",
    "eu_users = games_actual[(games_actual['na_sales'] == 0) &\\\n",
    "                        (games_actual['jp_sales'] == 0) &\\\n",
    "                        (games_actual['other_sales'] == 0)]\n",
    "# вывод названия таблицы и ее размеров методом shape\n",
    "print('eu_users', eu_users.shape)\n",
    "\n",
    "# получение среза таблицы games_actual по условию 'na_sales' & 'eu_sales' \n",
    "# & 'other_sales' == 0 и сохраение данных строк в переменной 'jp_users'\n",
    "jp_users = games_actual[(games_actual['na_sales'] == 0) &\\\n",
    "                        (games_actual['eu_sales'] == 0) &\\\n",
    "                        (games_actual['other_sales'] == 0)]\n",
    "# вывод названия таблицы и ее размеров методом shape\n",
    "print('jp_users', jp_users.shape)"
   ]
  },
  {
   "cell_type": "markdown",
   "id": "1961b288",
   "metadata": {},
   "source": [
    "Для получения топ-5 по долям продаж определенной игровой платформы, жанра и рейтинга по региону необходимо провести сооветствующую группировку и расчет. \n",
    "\n",
    "Автоматизируем данный процесс с помощью функции `pivot_region_top5()`, принимающей на вход столбец для группировки с возвратом таблицы топ-5 категорий столбца по долям продаж в регионах:"
   ]
  },
  {
   "cell_type": "code",
   "execution_count": 44,
   "id": "cc55de98",
   "metadata": {},
   "outputs": [],
   "source": [
    "# создание функции pivot_region_top5() с аргументом 'column'\n",
    "def pivot_region_top5(column):\n",
    "    '''\n",
    "    Возращает сгруппированные по столбцу 'column' таблицы na_users, eu_users и jp_users\n",
    "    с расчетом количества игр ('count'), суммарных продаж ('total_sales') и доли продаж\n",
    "    ('share_total_sales') от общего числа продаж по категориям столбца 'column' и выводом \n",
    "    5 самых больших значений по долям продаж категорий 'column' с сортировкой по убыванию\n",
    "    '''\n",
    "    # создание списка 'users_region' со таблицами по регионам\n",
    "    users_region = [na_users, eu_users, jp_users]\n",
    "    \n",
    "    # для каждого региона из списка 'users_region'\n",
    "    for region in users_region:\n",
    "        \n",
    "        # формирование сводной таблицы методом pivot_table() с индексом 'column' и столбцами\n",
    "        # с количеством игр 'name' и суммой продаж 'total_sales' по столбцу 'column' с  \n",
    "        # реиндексированием методом reset_index()\n",
    "        pivot = region.pivot_table(index=column, values= ['name', 'total_sales'],\\\n",
    "                                  aggfunc={'name': 'count', 'total_sales': 'sum'}).reset_index()\n",
    "        \n",
    "        # переименование столбца 'name' в 'count' с заменой значения (inplace=True)\n",
    "        pivot.rename({'name': 'count'}, axis=1, inplace=True)\n",
    "        \n",
    "        # создание столбца 'share_total_sales' с долями продаж по 'column' от общего числа продаж методом \n",
    "        # apply() с помощью лямбда-функции и округлением полученных значений до двух знаков методом round()\n",
    "        pivot['share_total_sales'] = pivot['total_sales'].apply(lambda x: (x/pivot['total_sales'].sum()).round(2))\n",
    "        \n",
    "        # получение с помощью анонимной функции и отображение имени таблицы методом display()\n",
    "        display([x for x in globals() if globals()[x] is region][0])\n",
    "        \n",
    "        # отображение 5 самых больших значений по столбцу 'share_total_sales' \n",
    "        # с сортировкой по убыванию методом nlargest()\n",
    "        display(pivot.nlargest(5, 'share_total_sales'))\n",
    "        \n",
    "        # вывод разделителя полученных таблиц\n",
    "        print('--------------------------------------')"
   ]
  },
  {
   "cell_type": "markdown",
   "id": "cafa5373",
   "metadata": {},
   "source": [
    "### Топ-5 популярных игровых платформ\n",
    "\n",
    "---"
   ]
  },
  {
   "cell_type": "markdown",
   "id": "07eec060",
   "metadata": {},
   "source": [
    "Применим функцию `pivot_region_top5()` к столбцу `platform` для получения топ-5 игровых платформ в каждом регионе, количества выпущенных игр для них, суммарных продаж по платформам и долям продаж видеоигр от общего числа продаж:"
   ]
  },
  {
   "cell_type": "code",
   "execution_count": 45,
   "id": "45c470dc",
   "metadata": {},
   "outputs": [
    {
     "data": {
      "text/plain": [
       "'na_users'"
      ]
     },
     "metadata": {},
     "output_type": "display_data"
    },
    {
     "data": {
      "text/html": [
       "<div>\n",
       "<style scoped>\n",
       "    .dataframe tbody tr th:only-of-type {\n",
       "        vertical-align: middle;\n",
       "    }\n",
       "\n",
       "    .dataframe tbody tr th {\n",
       "        vertical-align: top;\n",
       "    }\n",
       "\n",
       "    .dataframe thead th {\n",
       "        text-align: right;\n",
       "    }\n",
       "</style>\n",
       "<table border=\"1\" class=\"dataframe\">\n",
       "  <thead>\n",
       "    <tr style=\"text-align: right;\">\n",
       "      <th></th>\n",
       "      <th>platform</th>\n",
       "      <th>count</th>\n",
       "      <th>total_sales</th>\n",
       "      <th>share_total_sales</th>\n",
       "    </tr>\n",
       "  </thead>\n",
       "  <tbody>\n",
       "    <tr>\n",
       "      <td>10</td>\n",
       "      <td>XOne</td>\n",
       "      <td>24</td>\n",
       "      <td>0.42</td>\n",
       "      <td>0.36</td>\n",
       "    </tr>\n",
       "    <tr>\n",
       "      <td>0</td>\n",
       "      <td>3DS</td>\n",
       "      <td>11</td>\n",
       "      <td>0.23</td>\n",
       "      <td>0.20</td>\n",
       "    </tr>\n",
       "    <tr>\n",
       "      <td>4</td>\n",
       "      <td>PS4</td>\n",
       "      <td>16</td>\n",
       "      <td>0.23</td>\n",
       "      <td>0.20</td>\n",
       "    </tr>\n",
       "    <tr>\n",
       "      <td>9</td>\n",
       "      <td>X360</td>\n",
       "      <td>6</td>\n",
       "      <td>0.14</td>\n",
       "      <td>0.12</td>\n",
       "    </tr>\n",
       "    <tr>\n",
       "      <td>6</td>\n",
       "      <td>PSV</td>\n",
       "      <td>5</td>\n",
       "      <td>0.05</td>\n",
       "      <td>0.04</td>\n",
       "    </tr>\n",
       "  </tbody>\n",
       "</table>\n",
       "</div>"
      ],
      "text/plain": [
       "   platform  count  total_sales  share_total_sales\n",
       "10     XOne     24         0.42               0.36\n",
       "0       3DS     11         0.23               0.20\n",
       "4       PS4     16         0.23               0.20\n",
       "9      X360      6         0.14               0.12\n",
       "6       PSV      5         0.05               0.04"
      ]
     },
     "metadata": {},
     "output_type": "display_data"
    },
    {
     "name": "stdout",
     "output_type": "stream",
     "text": [
      "--------------------------------------\n"
     ]
    },
    {
     "data": {
      "text/plain": [
       "'eu_users'"
      ]
     },
     "metadata": {},
     "output_type": "display_data"
    },
    {
     "data": {
      "text/html": [
       "<div>\n",
       "<style scoped>\n",
       "    .dataframe tbody tr th:only-of-type {\n",
       "        vertical-align: middle;\n",
       "    }\n",
       "\n",
       "    .dataframe tbody tr th {\n",
       "        vertical-align: top;\n",
       "    }\n",
       "\n",
       "    .dataframe thead th {\n",
       "        text-align: right;\n",
       "    }\n",
       "</style>\n",
       "<table border=\"1\" class=\"dataframe\">\n",
       "  <thead>\n",
       "    <tr style=\"text-align: right;\">\n",
       "      <th></th>\n",
       "      <th>platform</th>\n",
       "      <th>count</th>\n",
       "      <th>total_sales</th>\n",
       "      <th>share_total_sales</th>\n",
       "    </tr>\n",
       "  </thead>\n",
       "  <tbody>\n",
       "    <tr>\n",
       "      <td>2</td>\n",
       "      <td>PC</td>\n",
       "      <td>86</td>\n",
       "      <td>2.52</td>\n",
       "      <td>0.55</td>\n",
       "    </tr>\n",
       "    <tr>\n",
       "      <td>0</td>\n",
       "      <td>3DS</td>\n",
       "      <td>21</td>\n",
       "      <td>0.65</td>\n",
       "      <td>0.14</td>\n",
       "    </tr>\n",
       "    <tr>\n",
       "      <td>10</td>\n",
       "      <td>XOne</td>\n",
       "      <td>19</td>\n",
       "      <td>0.31</td>\n",
       "      <td>0.07</td>\n",
       "    </tr>\n",
       "    <tr>\n",
       "      <td>4</td>\n",
       "      <td>PS4</td>\n",
       "      <td>15</td>\n",
       "      <td>0.26</td>\n",
       "      <td>0.06</td>\n",
       "    </tr>\n",
       "    <tr>\n",
       "      <td>9</td>\n",
       "      <td>X360</td>\n",
       "      <td>13</td>\n",
       "      <td>0.27</td>\n",
       "      <td>0.06</td>\n",
       "    </tr>\n",
       "  </tbody>\n",
       "</table>\n",
       "</div>"
      ],
      "text/plain": [
       "   platform  count  total_sales  share_total_sales\n",
       "2        PC     86         2.52               0.55\n",
       "0       3DS     21         0.65               0.14\n",
       "10     XOne     19         0.31               0.07\n",
       "4       PS4     15         0.26               0.06\n",
       "9      X360     13         0.27               0.06"
      ]
     },
     "metadata": {},
     "output_type": "display_data"
    },
    {
     "name": "stdout",
     "output_type": "stream",
     "text": [
      "--------------------------------------\n"
     ]
    },
    {
     "data": {
      "text/plain": [
       "'jp_users'"
      ]
     },
     "metadata": {},
     "output_type": "display_data"
    },
    {
     "data": {
      "text/html": [
       "<div>\n",
       "<style scoped>\n",
       "    .dataframe tbody tr th:only-of-type {\n",
       "        vertical-align: middle;\n",
       "    }\n",
       "\n",
       "    .dataframe tbody tr th {\n",
       "        vertical-align: top;\n",
       "    }\n",
       "\n",
       "    .dataframe thead th {\n",
       "        text-align: right;\n",
       "    }\n",
       "</style>\n",
       "<table border=\"1\" class=\"dataframe\">\n",
       "  <thead>\n",
       "    <tr style=\"text-align: right;\">\n",
       "      <th></th>\n",
       "      <th>platform</th>\n",
       "      <th>count</th>\n",
       "      <th>total_sales</th>\n",
       "      <th>share_total_sales</th>\n",
       "    </tr>\n",
       "  </thead>\n",
       "  <tbody>\n",
       "    <tr>\n",
       "      <td>0</td>\n",
       "      <td>3DS</td>\n",
       "      <td>155</td>\n",
       "      <td>27.59</td>\n",
       "      <td>0.50</td>\n",
       "    </tr>\n",
       "    <tr>\n",
       "      <td>6</td>\n",
       "      <td>PSV</td>\n",
       "      <td>235</td>\n",
       "      <td>11.32</td>\n",
       "      <td>0.20</td>\n",
       "    </tr>\n",
       "    <tr>\n",
       "      <td>3</td>\n",
       "      <td>PS3</td>\n",
       "      <td>112</td>\n",
       "      <td>8.69</td>\n",
       "      <td>0.16</td>\n",
       "    </tr>\n",
       "    <tr>\n",
       "      <td>4</td>\n",
       "      <td>PS4</td>\n",
       "      <td>51</td>\n",
       "      <td>3.48</td>\n",
       "      <td>0.06</td>\n",
       "    </tr>\n",
       "    <tr>\n",
       "      <td>5</td>\n",
       "      <td>PSP</td>\n",
       "      <td>65</td>\n",
       "      <td>3.15</td>\n",
       "      <td>0.06</td>\n",
       "    </tr>\n",
       "  </tbody>\n",
       "</table>\n",
       "</div>"
      ],
      "text/plain": [
       "  platform  count  total_sales  share_total_sales\n",
       "0      3DS    155        27.59               0.50\n",
       "6      PSV    235        11.32               0.20\n",
       "3      PS3    112         8.69               0.16\n",
       "4      PS4     51         3.48               0.06\n",
       "5      PSP     65         3.15               0.06"
      ]
     },
     "metadata": {},
     "output_type": "display_data"
    },
    {
     "name": "stdout",
     "output_type": "stream",
     "text": [
      "--------------------------------------\n"
     ]
    }
   ],
   "source": [
    "# вызов функции pivot_region_top5() с аргументом 'platform'\n",
    "pivot_region_top5('platform')"
   ]
  },
  {
   "cell_type": "markdown",
   "id": "6052eb97",
   "metadata": {},
   "source": [
    "Тройка продаж по Северной Америке - *Microsoft Xbox One* (около трети продаж), далее - *Nintendo 3DS* и *Sony PlayStation 4* (по 20% рынка), в Европе - *PC* (больше половины продаж), *Nintendo 3DS* и *Microsoft Xbox One*, Япония - *Nintendo 3DS* (ровно 50%) и *Sony PlayStation Vita* (пятая часть продаж), а также *Sony PlayStation 3*"
   ]
  },
  {
   "cell_type": "markdown",
   "id": "b1dbb4d1",
   "metadata": {},
   "source": [
    "### Топ-5 популярных игровых жанров\n",
    "\n",
    "---"
   ]
  },
  {
   "cell_type": "markdown",
   "id": "ed891658",
   "metadata": {},
   "source": [
    "Проведем аналогичные предыдущему пункту операции, но в данном случае уже с жанрами - по столбцу `genre`:"
   ]
  },
  {
   "cell_type": "code",
   "execution_count": 46,
   "id": "87f725d7",
   "metadata": {
    "scrolled": false
   },
   "outputs": [
    {
     "data": {
      "text/plain": [
       "'na_users'"
      ]
     },
     "metadata": {},
     "output_type": "display_data"
    },
    {
     "data": {
      "text/html": [
       "<div>\n",
       "<style scoped>\n",
       "    .dataframe tbody tr th:only-of-type {\n",
       "        vertical-align: middle;\n",
       "    }\n",
       "\n",
       "    .dataframe tbody tr th {\n",
       "        vertical-align: top;\n",
       "    }\n",
       "\n",
       "    .dataframe thead th {\n",
       "        text-align: right;\n",
       "    }\n",
       "</style>\n",
       "<table border=\"1\" class=\"dataframe\">\n",
       "  <thead>\n",
       "    <tr style=\"text-align: right;\">\n",
       "      <th></th>\n",
       "      <th>genre</th>\n",
       "      <th>count</th>\n",
       "      <th>total_sales</th>\n",
       "      <th>share_total_sales</th>\n",
       "    </tr>\n",
       "  </thead>\n",
       "  <tbody>\n",
       "    <tr>\n",
       "      <td>0</td>\n",
       "      <td>Action</td>\n",
       "      <td>26</td>\n",
       "      <td>0.41</td>\n",
       "      <td>0.35</td>\n",
       "    </tr>\n",
       "    <tr>\n",
       "      <td>8</td>\n",
       "      <td>Shooter</td>\n",
       "      <td>8</td>\n",
       "      <td>0.20</td>\n",
       "      <td>0.17</td>\n",
       "    </tr>\n",
       "    <tr>\n",
       "      <td>3</td>\n",
       "      <td>Misc</td>\n",
       "      <td>8</td>\n",
       "      <td>0.16</td>\n",
       "      <td>0.14</td>\n",
       "    </tr>\n",
       "    <tr>\n",
       "      <td>1</td>\n",
       "      <td>Adventure</td>\n",
       "      <td>10</td>\n",
       "      <td>0.15</td>\n",
       "      <td>0.13</td>\n",
       "    </tr>\n",
       "    <tr>\n",
       "      <td>10</td>\n",
       "      <td>Sports</td>\n",
       "      <td>6</td>\n",
       "      <td>0.09</td>\n",
       "      <td>0.08</td>\n",
       "    </tr>\n",
       "  </tbody>\n",
       "</table>\n",
       "</div>"
      ],
      "text/plain": [
       "        genre  count  total_sales  share_total_sales\n",
       "0      Action     26         0.41               0.35\n",
       "8     Shooter      8         0.20               0.17\n",
       "3        Misc      8         0.16               0.14\n",
       "1   Adventure     10         0.15               0.13\n",
       "10     Sports      6         0.09               0.08"
      ]
     },
     "metadata": {},
     "output_type": "display_data"
    },
    {
     "name": "stdout",
     "output_type": "stream",
     "text": [
      "--------------------------------------\n"
     ]
    },
    {
     "data": {
      "text/plain": [
       "'eu_users'"
      ]
     },
     "metadata": {},
     "output_type": "display_data"
    },
    {
     "data": {
      "text/html": [
       "<div>\n",
       "<style scoped>\n",
       "    .dataframe tbody tr th:only-of-type {\n",
       "        vertical-align: middle;\n",
       "    }\n",
       "\n",
       "    .dataframe tbody tr th {\n",
       "        vertical-align: top;\n",
       "    }\n",
       "\n",
       "    .dataframe thead th {\n",
       "        text-align: right;\n",
       "    }\n",
       "</style>\n",
       "<table border=\"1\" class=\"dataframe\">\n",
       "  <thead>\n",
       "    <tr style=\"text-align: right;\">\n",
       "      <th></th>\n",
       "      <th>genre</th>\n",
       "      <th>count</th>\n",
       "      <th>total_sales</th>\n",
       "      <th>share_total_sales</th>\n",
       "    </tr>\n",
       "  </thead>\n",
       "  <tbody>\n",
       "    <tr>\n",
       "      <td>0</td>\n",
       "      <td>Action</td>\n",
       "      <td>74</td>\n",
       "      <td>1.77</td>\n",
       "      <td>0.39</td>\n",
       "    </tr>\n",
       "    <tr>\n",
       "      <td>10</td>\n",
       "      <td>Sports</td>\n",
       "      <td>27</td>\n",
       "      <td>0.55</td>\n",
       "      <td>0.12</td>\n",
       "    </tr>\n",
       "    <tr>\n",
       "      <td>7</td>\n",
       "      <td>Role-Playing</td>\n",
       "      <td>11</td>\n",
       "      <td>0.40</td>\n",
       "      <td>0.09</td>\n",
       "    </tr>\n",
       "    <tr>\n",
       "      <td>1</td>\n",
       "      <td>Adventure</td>\n",
       "      <td>15</td>\n",
       "      <td>0.38</td>\n",
       "      <td>0.08</td>\n",
       "    </tr>\n",
       "    <tr>\n",
       "      <td>6</td>\n",
       "      <td>Racing</td>\n",
       "      <td>17</td>\n",
       "      <td>0.34</td>\n",
       "      <td>0.07</td>\n",
       "    </tr>\n",
       "  </tbody>\n",
       "</table>\n",
       "</div>"
      ],
      "text/plain": [
       "           genre  count  total_sales  share_total_sales\n",
       "0         Action     74         1.77               0.39\n",
       "10        Sports     27         0.55               0.12\n",
       "7   Role-Playing     11         0.40               0.09\n",
       "1      Adventure     15         0.38               0.08\n",
       "6         Racing     17         0.34               0.07"
      ]
     },
     "metadata": {},
     "output_type": "display_data"
    },
    {
     "name": "stdout",
     "output_type": "stream",
     "text": [
      "--------------------------------------\n"
     ]
    },
    {
     "data": {
      "text/plain": [
       "'jp_users'"
      ]
     },
     "metadata": {},
     "output_type": "display_data"
    },
    {
     "data": {
      "text/html": [
       "<div>\n",
       "<style scoped>\n",
       "    .dataframe tbody tr th:only-of-type {\n",
       "        vertical-align: middle;\n",
       "    }\n",
       "\n",
       "    .dataframe tbody tr th {\n",
       "        vertical-align: top;\n",
       "    }\n",
       "\n",
       "    .dataframe thead th {\n",
       "        text-align: right;\n",
       "    }\n",
       "</style>\n",
       "<table border=\"1\" class=\"dataframe\">\n",
       "  <thead>\n",
       "    <tr style=\"text-align: right;\">\n",
       "      <th></th>\n",
       "      <th>genre</th>\n",
       "      <th>count</th>\n",
       "      <th>total_sales</th>\n",
       "      <th>share_total_sales</th>\n",
       "    </tr>\n",
       "  </thead>\n",
       "  <tbody>\n",
       "    <tr>\n",
       "      <td>0</td>\n",
       "      <td>Action</td>\n",
       "      <td>219</td>\n",
       "      <td>20.72</td>\n",
       "      <td>0.37</td>\n",
       "    </tr>\n",
       "    <tr>\n",
       "      <td>7</td>\n",
       "      <td>Role-Playing</td>\n",
       "      <td>113</td>\n",
       "      <td>18.89</td>\n",
       "      <td>0.34</td>\n",
       "    </tr>\n",
       "    <tr>\n",
       "      <td>1</td>\n",
       "      <td>Adventure</td>\n",
       "      <td>144</td>\n",
       "      <td>4.73</td>\n",
       "      <td>0.09</td>\n",
       "    </tr>\n",
       "    <tr>\n",
       "      <td>3</td>\n",
       "      <td>Misc</td>\n",
       "      <td>62</td>\n",
       "      <td>3.77</td>\n",
       "      <td>0.07</td>\n",
       "    </tr>\n",
       "    <tr>\n",
       "      <td>10</td>\n",
       "      <td>Sports</td>\n",
       "      <td>26</td>\n",
       "      <td>3.11</td>\n",
       "      <td>0.06</td>\n",
       "    </tr>\n",
       "  </tbody>\n",
       "</table>\n",
       "</div>"
      ],
      "text/plain": [
       "           genre  count  total_sales  share_total_sales\n",
       "0         Action    219        20.72               0.37\n",
       "7   Role-Playing    113        18.89               0.34\n",
       "1      Adventure    144         4.73               0.09\n",
       "3           Misc     62         3.77               0.07\n",
       "10        Sports     26         3.11               0.06"
      ]
     },
     "metadata": {},
     "output_type": "display_data"
    },
    {
     "name": "stdout",
     "output_type": "stream",
     "text": [
      "--------------------------------------\n"
     ]
    }
   ],
   "source": [
    "# вызов функции pivot_region_top5() с аргументом 'genre'\n",
    "pivot_region_top5('genre')"
   ]
  },
  {
   "cell_type": "markdown",
   "id": "698e61c8",
   "metadata": {},
   "source": [
    "Тройка лидеров по регионам - для Северной Америки это *Action* (экшн, боевик), *Shooter* и *Misc* (или *Skill-and-action game*), для Европы - *Action*, *Sports* (спортивные игры) и *Role-Playing* (или *RPG* - ролевая игра), Япония - *Action*, *Role-Playing*.\n",
    "\n",
    "На первом месте во всех регионах с долей около трети продаж - жанр *Action*"
   ]
  },
  {
   "cell_type": "markdown",
   "id": "20558e67",
   "metadata": {},
   "source": [
    "### Влияет ли рейтинг ESRB на продажи в отдельном регионе?\n",
    "\n",
    "---"
   ]
  },
  {
   "cell_type": "markdown",
   "id": "6011d6ca",
   "metadata": {},
   "source": [
    "Выведем топ-5 возрастных рейтингов ESRB (столбец `rating`) по долям продаж в регионах с помощью функции `pivot_region_top5()`:"
   ]
  },
  {
   "cell_type": "code",
   "execution_count": 47,
   "id": "ebb5f343",
   "metadata": {},
   "outputs": [
    {
     "data": {
      "text/plain": [
       "'na_users'"
      ]
     },
     "metadata": {},
     "output_type": "display_data"
    },
    {
     "data": {
      "text/html": [
       "<div>\n",
       "<style scoped>\n",
       "    .dataframe tbody tr th:only-of-type {\n",
       "        vertical-align: middle;\n",
       "    }\n",
       "\n",
       "    .dataframe tbody tr th {\n",
       "        vertical-align: top;\n",
       "    }\n",
       "\n",
       "    .dataframe thead th {\n",
       "        text-align: right;\n",
       "    }\n",
       "</style>\n",
       "<table border=\"1\" class=\"dataframe\">\n",
       "  <thead>\n",
       "    <tr style=\"text-align: right;\">\n",
       "      <th></th>\n",
       "      <th>rating</th>\n",
       "      <th>count</th>\n",
       "      <th>total_sales</th>\n",
       "      <th>share_total_sales</th>\n",
       "    </tr>\n",
       "  </thead>\n",
       "  <tbody>\n",
       "    <tr>\n",
       "      <td>4</td>\n",
       "      <td>not indicated</td>\n",
       "      <td>19</td>\n",
       "      <td>0.32</td>\n",
       "      <td>0.28</td>\n",
       "    </tr>\n",
       "    <tr>\n",
       "      <td>0</td>\n",
       "      <td>E</td>\n",
       "      <td>13</td>\n",
       "      <td>0.29</td>\n",
       "      <td>0.25</td>\n",
       "    </tr>\n",
       "    <tr>\n",
       "      <td>1</td>\n",
       "      <td>E10+</td>\n",
       "      <td>12</td>\n",
       "      <td>0.24</td>\n",
       "      <td>0.21</td>\n",
       "    </tr>\n",
       "    <tr>\n",
       "      <td>2</td>\n",
       "      <td>M</td>\n",
       "      <td>12</td>\n",
       "      <td>0.18</td>\n",
       "      <td>0.16</td>\n",
       "    </tr>\n",
       "    <tr>\n",
       "      <td>3</td>\n",
       "      <td>T</td>\n",
       "      <td>10</td>\n",
       "      <td>0.13</td>\n",
       "      <td>0.11</td>\n",
       "    </tr>\n",
       "  </tbody>\n",
       "</table>\n",
       "</div>"
      ],
      "text/plain": [
       "          rating  count  total_sales  share_total_sales\n",
       "4  not indicated     19         0.32               0.28\n",
       "0              E     13         0.29               0.25\n",
       "1           E10+     12         0.24               0.21\n",
       "2              M     12         0.18               0.16\n",
       "3              T     10         0.13               0.11"
      ]
     },
     "metadata": {},
     "output_type": "display_data"
    },
    {
     "name": "stdout",
     "output_type": "stream",
     "text": [
      "--------------------------------------\n"
     ]
    },
    {
     "data": {
      "text/plain": [
       "'eu_users'"
      ]
     },
     "metadata": {},
     "output_type": "display_data"
    },
    {
     "data": {
      "text/html": [
       "<div>\n",
       "<style scoped>\n",
       "    .dataframe tbody tr th:only-of-type {\n",
       "        vertical-align: middle;\n",
       "    }\n",
       "\n",
       "    .dataframe tbody tr th {\n",
       "        vertical-align: top;\n",
       "    }\n",
       "\n",
       "    .dataframe thead th {\n",
       "        text-align: right;\n",
       "    }\n",
       "</style>\n",
       "<table border=\"1\" class=\"dataframe\">\n",
       "  <thead>\n",
       "    <tr style=\"text-align: right;\">\n",
       "      <th></th>\n",
       "      <th>rating</th>\n",
       "      <th>count</th>\n",
       "      <th>total_sales</th>\n",
       "      <th>share_total_sales</th>\n",
       "    </tr>\n",
       "  </thead>\n",
       "  <tbody>\n",
       "    <tr>\n",
       "      <td>5</td>\n",
       "      <td>not required</td>\n",
       "      <td>70</td>\n",
       "      <td>1.55</td>\n",
       "      <td>0.34</td>\n",
       "    </tr>\n",
       "    <tr>\n",
       "      <td>0</td>\n",
       "      <td>E</td>\n",
       "      <td>52</td>\n",
       "      <td>1.03</td>\n",
       "      <td>0.22</td>\n",
       "    </tr>\n",
       "    <tr>\n",
       "      <td>1</td>\n",
       "      <td>E10+</td>\n",
       "      <td>23</td>\n",
       "      <td>0.70</td>\n",
       "      <td>0.15</td>\n",
       "    </tr>\n",
       "    <tr>\n",
       "      <td>2</td>\n",
       "      <td>M</td>\n",
       "      <td>19</td>\n",
       "      <td>0.69</td>\n",
       "      <td>0.15</td>\n",
       "    </tr>\n",
       "    <tr>\n",
       "      <td>3</td>\n",
       "      <td>T</td>\n",
       "      <td>23</td>\n",
       "      <td>0.61</td>\n",
       "      <td>0.13</td>\n",
       "    </tr>\n",
       "  </tbody>\n",
       "</table>\n",
       "</div>"
      ],
      "text/plain": [
       "         rating  count  total_sales  share_total_sales\n",
       "5  not required     70         1.55               0.34\n",
       "0             E     52         1.03               0.22\n",
       "1          E10+     23         0.70               0.15\n",
       "2             M     19         0.69               0.15\n",
       "3             T     23         0.61               0.13"
      ]
     },
     "metadata": {},
     "output_type": "display_data"
    },
    {
     "name": "stdout",
     "output_type": "stream",
     "text": [
      "--------------------------------------\n"
     ]
    },
    {
     "data": {
      "text/plain": [
       "'jp_users'"
      ]
     },
     "metadata": {},
     "output_type": "display_data"
    },
    {
     "data": {
      "text/html": [
       "<div>\n",
       "<style scoped>\n",
       "    .dataframe tbody tr th:only-of-type {\n",
       "        vertical-align: middle;\n",
       "    }\n",
       "\n",
       "    .dataframe tbody tr th {\n",
       "        vertical-align: top;\n",
       "    }\n",
       "\n",
       "    .dataframe thead th {\n",
       "        text-align: right;\n",
       "    }\n",
       "</style>\n",
       "<table border=\"1\" class=\"dataframe\">\n",
       "  <thead>\n",
       "    <tr style=\"text-align: right;\">\n",
       "      <th></th>\n",
       "      <th>rating</th>\n",
       "      <th>count</th>\n",
       "      <th>total_sales</th>\n",
       "      <th>share_total_sales</th>\n",
       "    </tr>\n",
       "  </thead>\n",
       "  <tbody>\n",
       "    <tr>\n",
       "      <td>5</td>\n",
       "      <td>not required</td>\n",
       "      <td>583</td>\n",
       "      <td>49.99</td>\n",
       "      <td>0.90</td>\n",
       "    </tr>\n",
       "    <tr>\n",
       "      <td>3</td>\n",
       "      <td>T</td>\n",
       "      <td>43</td>\n",
       "      <td>4.33</td>\n",
       "      <td>0.08</td>\n",
       "    </tr>\n",
       "    <tr>\n",
       "      <td>0</td>\n",
       "      <td>E</td>\n",
       "      <td>5</td>\n",
       "      <td>0.30</td>\n",
       "      <td>0.01</td>\n",
       "    </tr>\n",
       "    <tr>\n",
       "      <td>2</td>\n",
       "      <td>M</td>\n",
       "      <td>3</td>\n",
       "      <td>0.49</td>\n",
       "      <td>0.01</td>\n",
       "    </tr>\n",
       "    <tr>\n",
       "      <td>1</td>\n",
       "      <td>E10+</td>\n",
       "      <td>2</td>\n",
       "      <td>0.23</td>\n",
       "      <td>0.00</td>\n",
       "    </tr>\n",
       "  </tbody>\n",
       "</table>\n",
       "</div>"
      ],
      "text/plain": [
       "         rating  count  total_sales  share_total_sales\n",
       "5  not required    583        49.99               0.90\n",
       "3             T     43         4.33               0.08\n",
       "0             E      5         0.30               0.01\n",
       "2             M      3         0.49               0.01\n",
       "1          E10+      2         0.23               0.00"
      ]
     },
     "metadata": {},
     "output_type": "display_data"
    },
    {
     "name": "stdout",
     "output_type": "stream",
     "text": [
      "--------------------------------------\n"
     ]
    }
   ],
   "source": [
    "# вызов функции pivot_region_top5() с аргументом 'rating'\n",
    "pivot_region_top5('rating')"
   ]
  },
  {
   "cell_type": "markdown",
   "id": "1bf7d377",
   "metadata": {},
   "source": [
    "Как было указано ранее, рейтинг ESRB предназначен, и соответственно оказывает влияние в большей степени лишь на североамериканский рынок. Но, судить о процентном распределении рейтинга в Северной Америки не представляется возможным - для трети значений рейтинг не указан. Поэтому лишь условно можем говорить о том, что четверть продаж там занимают игры для всех возрастов *Everyone*, еще четверть игры *Everyone 10 and older* — для всех от 10 лет и старше. <br/> \n",
    "\n",
    "На европейский регион и Японию рейтинг влияния не оказывает - около трети продаж по Европе это игры, не выпускавшийся на американский рынок, еще четверть с рейтингом *Everyone*, в Японии игр без рейтинга ESRB - 90%"
   ]
  },
  {
   "cell_type": "markdown",
   "id": "d5490c47",
   "metadata": {},
   "source": [
    "### Вывод\n",
    "\n",
    "---\n",
    "\n",
    "В даннм разделе проведен *анализ продаж по платформам, жанрам и рейтингам ESRB в разрезе регионов*. Составлены следующие портреты пользователей:\n",
    "* игроки из **Северной Америки** предпочитают играть на портативной приставке *Microsoft Xbox One* в игры жанра *Action* предположительно с возрастным рейтингом *Everyone* - *имеются пропуски в значениях рейтинга*\n",
    "* в **Европе** основная масса пользователей играют на **PC** также в *Action*-игры, рейтинг ESRB в большинстве случаев либо не берется в расчет, либо *Everyone*\n",
    "* пользователи из **Японии** предпочитают портативную консоль *Nintendo 3DS*, игры жанра *Action* или *Role-Playing* (*RPG*), рейтинг не оказывает влияния на выбор\n",
    "\n",
    "---"
   ]
  },
  {
   "cell_type": "markdown",
   "id": "f818baff",
   "metadata": {},
   "source": [
    "## Проверка гипотез исследования\n",
    "\n",
    "---"
   ]
  },
  {
   "cell_type": "markdown",
   "id": "b9d7ba84",
   "metadata": {},
   "source": [
    "В данном разделе предстоит проверить две гипотезы:\n",
    "1. Средние пользовательские рейтинги платформ *Xbox One* и *PC* одинаковые\n",
    "2. Средние пользовательские рейтинги жанров *Action* и *Sports* разные\n",
    "\n",
    "<br/> <br/> \n",
    "\n",
    "Пункты однотипны и сводятся к **статистической гипотезе о равенстве среднего двух генеральных совокупностей**. Опишем общий алгоритм проверки данной гипотезы:\n",
    "\n",
    "1. Формулируется *нулевая гипотеза* $\\bf H_{0}$: <br/> $$H_{0}: \\overline{X_{1}} = \\overline{X_{2}}$$ <br/> о том, что среднее значение выборки ${X_{1}}$ *равно* среднему значению выборки ${X_{2}}$ (*нулевая гипотеза всегда формируется с использованием знака равенства*) <br/> <br/>\n",
    "\n",
    "2. Формулируется *альтернативная гипотеза* $\\bf H_{1}$: <br/> $$H_{1}: \\overline{X_{1}} \\neq \\overline{X_{2}}$$ <br/> о том, что среднее значение выборки ${X_{1}}$ *не равно* среднему значению выборки ${X_{2}}$ <br/> <br/>\n",
    "\n",
    "3. Объем выборок в нашем случае велик (больше 30), поэтому они считаются нормально распределенными и используется следующий *статистический критерий* - математическое правило, по которому принимаются или отвергаются гипотезы $\\bf H_{0}$ и $\\bf H_{1}$: <br/> <br/> $$t = \\frac{{\\overline{X_{1}}-\\overline{X_{2}}}}{\\sqrt{{\\frac{s_1^2}{n_{1}}}-{\\frac{s_2^2}{n_{2}}}}},$$ где ${{\\overline{X_{1}}-\\overline{X_{2}}}}$ - разница выборочных средних <br/> ${s_1^2}$ и ${s_2^2}$ - выборочные дисперсии <br/> ${n_{1}}$ и ${n_{2}}$ - объемы выборок <br/> <br/> В данном случае используется **t-критерий Стьюдента**, одним из условий которого является равенство дисперсий выборок <br/> <br/> Задача сравнения средних двух нормально распределённых выборок при неизвестных и неравных дисперсиях известна как *проблема Беренса-Фишера*. Точного решения этой задачи до настоящего времени нет, но на практике используются различные приближения, в том числе и модифицированный t-критерий - **проверка Уэлча**: <br/><br/> $$t = \\frac{\\sqrt{n_{1}n_{2}}(\\overline{X_{1}}-\\overline{X_{2}})}{\\sqrt{n_{1}s_1^2+n_{2}s_2^2}},$$ где ${{\\overline{X_{1}}-\\overline{X_{2}}}}$ - разница выборочных средних <br/> ${s_1^2}$ и ${s_2^2}$ - выборочные дисперсии <br/> ${n_{1}}$ и ${n_{2}}$ - объемы выборок <br/> <br/> \n",
    "\n",
    "4. Выбирается *критический уровень статистической значимости* ${\\alpha}$ - вероятность ошибочно отклонить верную на самом деле нулевую гипотезу (совершить *ошибку первого рода*). Чем меньше ${\\alpha}$-уровень, тем меньше риск совершения этой ошибки. В нашем случае исследование не требует предельной точности, поэтому примем ${\\alpha} = 0.05$ <br/> <br/>\n",
    "\n",
    "5. На основе t-критерия Стьюдента вычисляется *наблюдаемое (т.е. вычисленное по выборкам) значение критерия* $t_{observed}$ <br/> <br/>\n",
    "\n",
    "6. Определяется *критическая двусторонняя область* - область отвержения нулевой гипотезы, т.е. если $t_{набл}$ попадет в данную область, нулевая гипотеза отвергается: При ${\\alpha} = 0.05$: <br/> <br/> $$\\frac{\\alpha}{2} = 0.025$$ <br/> $$\\frac{1-\\alpha}{2} = 0.975$$ <br/> По таблице t-распределения Стьюдента определяем критические точки с которыми сравнивается наблюдаемое значение: <br/> <br/> $$t_{двуст.кр} = \\pm 1.96$$ <br/> <br/>\n",
    "\n",
    "7. Выносится вердикт: \n",
    "    * если $t_{набл}$ в критическую область не попадет, то нулевая гипотеза $\\bf H_{0}$ на уровне значимости ${\\alpha}$ **принимается**\n",
    "    * если $t_{набл}$ попадет в критическую область, то нулевая гипотеза $\\bf H_{0}$ **отвергается** на уровне значимости ${\\alpha}$ <br/>\n",
    "    \n",
    "<p align='center'>\n",
    "  <img src='https://ucarecdn.com/911a15eb-65f2-48b3-af40-f4399d825430/' width=300 height=200 />\n",
    "</p>\n",
    "\n",
    "Создадим функцию `ttest_result`, которая рассчитает **p-value** - полученное в ходе статистического теста значение вероятности совершения ошибки I рода (ошибочного отклонения нулевой гипотезы, когда в действительности она верна) методом `st.ttest_ind()`, выведет ее значение с соответствующей подписью, сравнит p-value с принятым ранее как ${\\alpha} = 0.05$ уровнем значимости и выведет вердикт:"
   ]
  },
  {
   "cell_type": "code",
   "execution_count": 48,
   "id": "c5127aaf",
   "metadata": {},
   "outputs": [],
   "source": [
    "def ttest_result(data_1, data_2, equal):\n",
    "    '''\n",
    "    Проводит на уровне значимости alpha=0.05 стандартную независимую проверку двух\n",
    "    выборок 'data_1' и 'data_2' по столбцу 'user_score' с использованием t-критерия\n",
    "    Стьюдента (при equal=True) или выполняет проверку Уэлча (при equal=False) с выводом\n",
    "    рассчитанных значений и вердикта\n",
    "    '''\n",
    "    # формирование условия вывода примененного теста\n",
    "    if equal==True:\n",
    "        print('Дисперсии выборок равны, использован t-критерий Стьюдента')\n",
    "    else:\n",
    "        print('Дисперсии выборок не равны, проведена проверка Уэлча')\n",
    "    print() \n",
    "    \n",
    "    # применение метода ttest_ind() к столбцу 'user_score' таблиц 'data_1' и 'data_2',\n",
    "    # игнорированием значений 'NaN' nan_policy = 'omit', с параметром equal_val=equal_val \n",
    "    # и сохранением в переменной 'result'\n",
    "    result = st.ttest_ind(data_1['user_score'],\\\n",
    "                          data_2['user_score'],\\\n",
    "                          nan_policy = 'omit',\\\n",
    "                          equal_var=equal)\n",
    "\n",
    "    # вывод p-значения\n",
    "    print('p-значение:', result.pvalue)\n",
    "\n",
    "    # сохранение в переменной 'alpha' критического \n",
    "    # уровеня статистической значимости\n",
    "    alpha = .05 \n",
    "    \n",
    "    # вывод вердикта\n",
    "    if result.pvalue < alpha:\n",
    "        print('Нулевая гипотеза на уровне значимости alpha=0.05 отвергается')\n",
    "    else:\n",
    "        print('Нулевая гипотеза на уровне значимости alpha=0.05 принимается') "
   ]
  },
  {
   "cell_type": "markdown",
   "id": "fd865e56",
   "metadata": {},
   "source": [
    "### Средние пользовательские рейтинги платформ *Xbox One* и *PC* одинаковые\n",
    "\n",
    "---"
   ]
  },
  {
   "cell_type": "markdown",
   "id": "2739b1f7",
   "metadata": {},
   "source": [
    "Для начала необходимо получить срезы таблицы `games_actual`, содержащие платформы *Xbox One* (`XOne`) и *PC* (`PC`) и сохранить их в соответствующих переменных `platform_xone` и `platform_pc`:"
   ]
  },
  {
   "cell_type": "code",
   "execution_count": 49,
   "id": "3bce417d",
   "metadata": {},
   "outputs": [],
   "source": [
    "# получение срезов по интересующим платформам методом query() с сохранением в соответствующих переменных\n",
    "platform_xone = games_actual.query('platform == \"XOne\"').reset_index()\n",
    "platform_pc = games_actual.query('platform == \"PC\"').reset_index()"
   ]
  },
  {
   "cell_type": "markdown",
   "id": "3cbc6d6a",
   "metadata": {},
   "source": [
    "Сформулируем *нулевую гипотезу* о том, что средний пользовательский рейтинг платформы *Xbox One* **равен** среднему пользовательскому рейтингу платформы *PC*:\n",
    "\n",
    "$\\bf H_{0}$: `platform_xone['user_score'].mean()` $=$ `platform_pc['user_score'].mean()` <br/> <br/>\n",
    "\n",
    "*Альтернативная гипотеза* - средний пользовательский рейтинг платформы *Xbox One* **не равен** среднему пользовательскому рейтингу платформы *PC*:\n",
    "\n",
    "$\\bf H_{1}$: `platform_xone['user_score'].mean()` $\\neq$ `platform_pc['user_score'].mean()` <br/> <br/>\n",
    "\n",
    "Сравнив дисперсии обоих выборок определим используемый критерий - Стьюдента или Уэлча:"
   ]
  },
  {
   "cell_type": "code",
   "execution_count": 50,
   "id": "b354ad2f",
   "metadata": {
    "scrolled": true
   },
   "outputs": [
    {
     "name": "stdout",
     "output_type": "stream",
     "text": [
      "Дисперсия значений пользовательского рейтинга платформы Xbox One: 1.8965188383045526\n",
      "Дисперсия значений пользовательского рейтинга платформы PC: 3.0286534352399737\n"
     ]
    }
   ],
   "source": [
    "# вывод значения дисперсии по столбцу 'user_rating' таблиц \n",
    "# 'platform_xone' и 'platform_pc' методом np.var()\n",
    "print('Дисперсия значений пользовательского рейтинга платформы Xbox One:', np.var(platform_xone['user_score']))\n",
    "print('Дисперсия значений пользовательского рейтинга платформы PC:', np.var(platform_pc['user_score']))"
   ]
  },
  {
   "cell_type": "markdown",
   "id": "203696a8",
   "metadata": {},
   "source": [
    "Дисперсии не равны, проведем проверку Уэлча. Передадим в функцию `ttest_result()` таблицы `platform_xone` и `platform_pc`, с параметром `equal=False`: "
   ]
  },
  {
   "cell_type": "code",
   "execution_count": 51,
   "id": "e4799c22",
   "metadata": {
    "scrolled": false
   },
   "outputs": [
    {
     "name": "stdout",
     "output_type": "stream",
     "text": [
      "Дисперсии выборок не равны, проведена проверка Уэлча\n",
      "\n",
      "p-значение: 0.1715661382933573\n",
      "Нулевая гипотеза на уровне значимости alpha=0.05 принимается\n"
     ]
    }
   ],
   "source": [
    "# вызов функции ttest_result() с аргументами 'platform_xone' \n",
    "# и 'platform_pc' и параметром 'elual=False'\n",
    "ttest_result(platform_xone, platform_pc, False)"
   ]
  },
  {
   "cell_type": "markdown",
   "id": "3003161f",
   "metadata": {},
   "source": [
    "Выведем средние пользовательские рейтинги по платформам:"
   ]
  },
  {
   "cell_type": "code",
   "execution_count": 52,
   "id": "e7be76dc",
   "metadata": {
    "scrolled": true
   },
   "outputs": [
    {
     "name": "stdout",
     "output_type": "stream",
     "text": [
      "Среднее значение пользовательского рейтинга платформы Xbox One: 6.521428571428572\n",
      "Среднее значение пользовательского рейтинга платформы PC: 6.283974358974358\n"
     ]
    }
   ],
   "source": [
    "# получение значения среднего по столбцу 'user_score' \n",
    "# таблиц 'platform_xone' и 'platform_pc' методом mean()\n",
    "print('Среднее значение пользовательского рейтинга платформы Xbox One:', platform_xone['user_score'].mean())\n",
    "print('Среднее значение пользовательского рейтинга платформы PC:', platform_pc['user_score'].mean())"
   ]
  },
  {
   "cell_type": "markdown",
   "id": "6a019153",
   "metadata": {},
   "source": [
    "### Средние пользовательские рейтинги жанров *Action* и *Sports* разные\n",
    "\n",
    "---"
   ]
  },
  {
   "cell_type": "markdown",
   "id": "0d9048eb",
   "metadata": {},
   "source": [
    "Проведем аналогичные предыдущему пунтку манипуляции с получением срезов, но уже по жанрам `Action` и `Sports` с сохранением в соответствующих переменных `genre_action` и `genre_sports`:"
   ]
  },
  {
   "cell_type": "code",
   "execution_count": 53,
   "id": "b056c2bf",
   "metadata": {},
   "outputs": [],
   "source": [
    "# получение срезов по интересующим жанрам методом query() с сохранением в соответствующих переменных\n",
    "genre_action = games_actual.query('genre == \"Action\"').reset_index()\n",
    "genre_sports = games_actual.query('genre == \"Sports\"').reset_index()"
   ]
  },
  {
   "cell_type": "markdown",
   "id": "3c02d28d",
   "metadata": {},
   "source": [
    "Сформулируем *нулевую гипотезу* о том, что средний пользовательский рейтинг жанра *Action* **равен** среднему пользовательскому рейтингу жанра *Sports*:\n",
    "\n",
    "$\\bf H_{0}$: `genre_action['user_score'].mean()` $=$ `genre_sports['user_score'].mean()` <br/> <br/>\n",
    "\n",
    "*Альтернативная гипотеза* - средний пользовательский рейтинг жанра *Action* **не равен** среднему пользовательскому рейтингу жанра *Sports*:\n",
    "\n",
    "$\\bf H_{1}$: `genre_action['user_score'].mean()` $\\neq$ `genre_sports['user_score'].mean()` <br/> <br/>\n",
    "\n",
    "Сравнив дисперсии обоих выборок определим используемый критерий - Стьюдента или Уэлча:"
   ]
  },
  {
   "cell_type": "code",
   "execution_count": 54,
   "id": "199b38f0",
   "metadata": {
    "scrolled": false
   },
   "outputs": [
    {
     "name": "stdout",
     "output_type": "stream",
     "text": [
      "Дисперсия значений пользовательского рейтинга жанра Action: 1.767355752794214\n",
      "Дисперсия значений пользовательского рейтинга жанра Sports: 3.160733984375\n"
     ]
    }
   ],
   "source": [
    "# вывод значения дисперсии по столбцу 'user_rating' таблиц \n",
    "# 'genre_action' и 'genre_sports' методом np.var()\n",
    "print('Дисперсия значений пользовательского рейтинга жанра Action:', np.var(genre_action['user_score']))\n",
    "print('Дисперсия значений пользовательского рейтинга жанра Sports:', np.var(genre_sports['user_score']))"
   ]
  },
  {
   "cell_type": "markdown",
   "id": "94f0addf",
   "metadata": {},
   "source": [
    "Дисперсии не равны, проведем проверку Уэлча. Передадим в функцию `ttest_result()` таблицы `genre_action` и `genre_sports`, с параметром `equal=False`: "
   ]
  },
  {
   "cell_type": "code",
   "execution_count": 55,
   "id": "e2d31baa",
   "metadata": {
    "scrolled": true
   },
   "outputs": [
    {
     "name": "stdout",
     "output_type": "stream",
     "text": [
      "Дисперсии выборок не равны, проведена проверка Уэлча\n",
      "\n",
      "p-значение: 1.1834440653354244e-20\n",
      "Нулевая гипотеза на уровне значимости alpha=0.05 отвергается\n"
     ]
    }
   ],
   "source": [
    "# вызов функции ttest_result() с аргументами 'genre_action' \n",
    "# и 'genre_sports' и параметром 'elual=False'\n",
    "ttest_result(genre_action, genre_sports, False)"
   ]
  },
  {
   "cell_type": "markdown",
   "id": "853a78bc",
   "metadata": {},
   "source": [
    "Выведем средние пользовательские рейтинги:"
   ]
  },
  {
   "cell_type": "code",
   "execution_count": 56,
   "id": "fb54628f",
   "metadata": {},
   "outputs": [
    {
     "name": "stdout",
     "output_type": "stream",
     "text": [
      "Среднее значение пользовательского рейтинга жанра Action: 6.841794871794872\n",
      "Среднее значение пользовательского рейтинга жанра Sports: 5.238124999999999\n"
     ]
    }
   ],
   "source": [
    "# получение значения среднего по столбцу 'user_score' \n",
    "# таблиц 'genre_action' и 'genre_sports' методом mean()\n",
    "print('Среднее значение пользовательского рейтинга жанра Action:', genre_action['user_score'].mean())\n",
    "print('Среднее значение пользовательского рейтинга жанра Sports:', genre_sports['user_score'].mean())"
   ]
  },
  {
   "cell_type": "markdown",
   "id": "ecb05ce1",
   "metadata": {},
   "source": [
    "### Вывод\n",
    "\n",
    "---\n",
    "\n",
    "В данном разделе стояла задача *проверить гипотезы*:\n",
    "1. Средние пользовательские рейтинги платформ *Xbox One* и *PC* одинаковые\n",
    "2. Средние пользовательские рейтинги жанров *Action* и *Sports* разные\n",
    "\n",
    "Для этого был проведен **t-тест с критерием Уэлча**, по результату выполнения которого была **принята гипотеза о равенстве средних пользовательских рейтингов платформ *Xbox One* и *PC*** и **отвергнута гипотеза о равенстве средних пользовательских рейтингов жанров *Action* и *Sports***.\n",
    "\n",
    "**Средний пользовательский рейтинг платформы *Xbox One*  равен рейтингу *PC***, что, вероятно, связано с практически одинаковой реализацией игр на платформах *Microsoft* - как технически, так и сюжетно. Также влияние оказывает тот факт, что многие эксклюзивные релизы выходили только для *Xbox* и *Windows*.\n",
    "\n",
    "**Средний пользовательский рейтинг жанра *Action* выше, чем у жанра *Sports*** - данный вывод также связан с более высокой долей популярности, выраженной в суммарных продажах, жанра *Action*. Спортивные симуляторы *Sports* предпочтительны в основном в Европе, где, как выяснено ранее, преобладает непопулярный в глобальном плане *PC*-гейминг\n",
    "\n",
    "---"
   ]
  },
  {
   "cell_type": "markdown",
   "id": "fd4a43f9",
   "metadata": {},
   "source": [
    "## Общий вывод исследования\n",
    "\n",
    "---\n",
    "\n",
    "В ходе *первого этапа* исследования проведена *первоначальная предобработка данных*. Результаты по итогу:\n",
    "\n",
    "* Названия столбцов приведены к нижнему регистру\n",
    "* Создана функция для вывода количества скрытых аномалий `show_artifacts`\n",
    "* Обработаны пропуски и некорректные значения:\n",
    "    * удалены записи с пропусками по столбцу `name`\n",
    "    * по полю `year_of_release` - значения для замены взяты из названий видеоигр\n",
    "    * по столбцу `rating` -  некорректные значения `tbd` - \"требует уточнения\" заменены на `NaN`, для видеоигр, не выходивших на североамериканском рынке указано значение `not required` - \"не требуется\", для игр без указания рейтинга `not indicated` - \"не указано\"\n",
    "    * редкие и некорректные значения рейтинга в столбце `rating` заменены на более распространенные в имеющемся датасете или на `NaN`\n",
    "* проверены на валидность данные в столбцах `platform`, `na_sales`, `eu_sales`, `jp_sales`, `other_sales` и `rating`\n",
    "* приведены типы данных к более корректным в столбцах: `user_score` к `float`, для повышения скорости обработки значений и минимизации используемой памяти `platform`, `genre` и `rating` к типу `object`\n",
    "* был рассчитан и добавлен в таблицу столбец `total_sales` - сумма продаж по всем регионам\n",
    "\n",
    "Пропуски и некорректные значения в большей степени обусловлены техническими проблемами - ошибками при получении данных либо получением их из разных источников. Также немаловероятно само отсутствие данных в источниках.\n",
    "\n",
    "<br/> <br/> \n",
    "На *втором этапе* необходимо было провести *исследовательский анализ данных* - построение графиков, визуальную оценку и расчет коэффициентов корреляции, выявление актуального периода, потенциально прибыльных платформ и жанров. В ходе исследования по данному разделу выявлены следующие факты:\n",
    "\n",
    "* **Актуальный период начиается с 2013 года** - каждый год год выпускается не менее **500 видеоигр** и **появляются актуальные игровые плафтормы**, приходя на место устаревающих лидеров рынка. Это связано, в первую очередь, с прогрессом в индустрии - появлением новых платформ и более мощного железа, а также создания новых средств визуализации и игровых движков <br/> <br/>\n",
    "\n",
    "* **Прослеживается тенденция к падению продаж видеоигр по всем платформам за последние несколько лет** ввиду роста популярности мобильного гейминга и *Free-to-play* игр с микротранзациями. Относительно **перспективные на будущий период** по сравнению с другими игровые платформы:\n",
    "\n",
    "    1. `PS4` - Sony PlayStation 4\n",
    "    2. `XOne` - Microsoft Xbox One\n",
    "    3. `3DS` - Nintendo 3DS  \n",
    "<br/>\n",
    "* Платформа с **самой высокой медианой продаж видеоигр в актуальном периоде** - *Xbox 360*, но она уже доживает свой век на рынке, уступая не менее крупным по продажам преемникам - актуальным ***Xbox One*** и ***PlayStation 4***. Относительно перспективная в следующем году платформа *Nintendo 3DS* невысока в продажах, вероятно, по причине большей популярности в Японии. Платформа *Wii* и ее портативный преемник *Wii U* также заметно высоки в продажах, но уходят на второй план в связи устареванием и прекращением поддержки. <br/> <br/> **Самые низкие по продажам** - несколько актуальные по времени, но падающие в продажах платформы ***PlayStation Vita*** и ***PlayStation Portable*** - вииду широко распространения мобильных игр и отказа от портативных консолей <br/> <br/> \n",
    "\n",
    "* Исходя из визуального анализа графиков и расчетов корреляции можем утверждать, что: <br/> <br/>\n",
    "\n",
    "    * **корреляция между отзывами критиков и продажами игр по трем потенциально прибыльным платформам слабая** и составляет *0.36-0.42*\n",
    "    * **корреляция между отзывами пользователей и продажами игр очень слабая**: в случае с *PlayStation 4* и *Xbox One* отрицательная *-0.032* и *-0.069* соответственно, по *Nintendo 3DS* положительная *0.24*\n",
    "    * **корреляция между отзывами критиков и отзывами пользователей по прибыльным платформам средняя** и лежит в диапазоне *0.47-0.77*\n",
    "    * по остальным платформам наблюдаем примерно ту же картину: **корреляция оценок критиков, пользователей и продаж по остальным платформам очень слабая** (*0.25 и -0.0054* соответственно), **оценок критиков и пользователей средняя** (*0.48*) \n",
    "    \n",
    "    Данные значения корреляции не говорят о причинно-следственной связи. Хоть и на диаграммах рассеяния прослеживается взаимосвязь оценок критиков и продаж игр на перспективных платформах, это не дает повода утверждать, что высокие оценки критиков повышают продажи игр <br/> <br/>\n",
    "\n",
    "* **Несомненный лидер продаж - жанр *Shooter***, далее примерно на равных местах *Platform* и *Sports*, за ними *Racing*, *Fighting* и *Role-Playing*. **Наименее популярны - *Puzzle* и *Adventure***\n",
    "\n",
    "**Итоговые выводы:**\n",
    "\n",
    "* **Топ-3 потенциально прибыльных платформ:**\n",
    "    1. `PS4` - Sony PlayStation 4\n",
    "    2. `XOne` - Microsoft Xbox One\n",
    "    3. `3DS` - Nintendo 3DS  \n",
    "<br/> \n",
    "* **Топ-3 прибыльных жанров по актуальному периоду:**\n",
    "    1. `Shooter` - шутеры\n",
    "    2. `Sports` - спорт\n",
    "    3. `Platform` - платформеры (бродилки)\n",
    "<br/> <br/> \n",
    "* **Оценки пользователей и критиков очень слабо влияют на продажи игр по всем платформам**\n",
    "\n",
    "<br/> <br/>\n",
    "В ходе *третьего этапа* проведен *анализ продаж по платформам, жанрам и рейтингам ESRB в разрезе регионов*. Составлены следующие портреты пользователей:\n",
    "* игроки из **Северной Америки** предпочитают играть на портативной приставке *Microsoft Xbox One* в игры жанра *Action* предположительно с возрастным рейтингом *Everyone* - *имеются пропуски в значениях рейтинга*\n",
    "* в **Европе** основная масса пользователей играют на **PC** также в *Action*-игры, рейтинг ESRB в большинстве случаев либо не берется в расчет, либо *Everyone*\n",
    "* пользователи из **Японии** предпочитают портативную консоль *Nintendo 3DS*, игры жанра *Action* или *Role-Playing* (*RPG*), рейтинг не оказывает влияния на выбор\n",
    "\n",
    "<br/> <br/>\n",
    "На *четвертом этапе* стояла задача *проверить гипотезы*:\n",
    "1. Средние пользовательские рейтинги платформ *Xbox One* и *PC* одинаковые\n",
    "2. Средние пользовательские рейтинги жанров *Action* и *Sports* разные\n",
    "\n",
    "Для этого был проведен **t-тест с критерием Уэлча**, по результату выполнения которого была **принята гипотеза о равенстве средних пользовательских рейтингов платформ *Xbox One* и *PC*** и **отвергнута гипотеза о равенстве средних пользовательских рейтингов жанров *Action* и *Sports***.\n",
    "\n",
    "**Средний пользовательский рейтинг платформы *Xbox One*  равен рейтингу *PC***, что, вероятно, связано с практически одинаковой реализацией игр на платформах *Microsoft* - как технически, так и сюжетно. Также влияние оказывает тот факт, что многие эксклюзивные релизы выходили только для *Xbox* и *Windows*.\n",
    "\n",
    "**Средний пользовательский рейтинг жанра *Action* выше, чем у жанра *Sports*** - данный вывод также связан с более высокой долей популярности, выраженной в суммарных продажах, жанра *Action*. Спортивные симуляторы *Sports* предпочтительны в основном в Европе, где, как выяснено ранее, преобладает непопулярный в глобальном плане *PC*-гейминг\n",
    "\n",
    "<br/> <br/>\n",
    "**Прогноз на 2017 год:**\n",
    "\n",
    "1. **В глобальном плане потенциально доходны платформы** *Sony PlayStation 4* и *Microsoft Xbox One*\n",
    "2. **Прибыльные жанры**: *Shooter* - шутеры, *Sports* - спорт и платформеры *Platform* \n",
    "3. **Оценки** пользователей и критиков **очень слабо влияют на продажи игр по всем платформам**\n",
    "4. Характерные предпочтения для **Северной Америки**: *Microsoft Xbox One*, игры жанра *Action* предположительно с возрастным рейтингом *Everyone*, в **Европе** - *PC* и *Action*-игры, рейтинг ESRB в большинстве случаев либо не берется в расчет, либо *Everyone*, пользователи из **Японии** предпочитают портативную консоль *Nintendo 3DS*, игры жанра *Action* или *Role-Playing* (*RPG*), рейтинг практически не оказывает влияния на выбор\n",
    "5. Эксклюзивы для *Xbox One* **одинаково успешны** у пользователей и на *PC*\n",
    "6. Самый **популярный жанр у пользователей** - *Action*\n",
    "---"
   ]
  }
 ],
 "metadata": {
  "ExecuteTimeLog": [
   {
    "duration": 1136,
    "start_time": "2021-10-09T08:52:25.690Z"
   },
   {
    "duration": 1578,
    "start_time": "2021-10-09T08:52:26.829Z"
   },
   {
    "duration": -102,
    "start_time": "2021-10-09T08:52:28.513Z"
   },
   {
    "duration": -104,
    "start_time": "2021-10-09T08:52:28.516Z"
   },
   {
    "duration": -106,
    "start_time": "2021-10-09T08:52:28.519Z"
   },
   {
    "duration": -108,
    "start_time": "2021-10-09T08:52:28.522Z"
   },
   {
    "duration": -110,
    "start_time": "2021-10-09T08:52:28.525Z"
   },
   {
    "duration": -113,
    "start_time": "2021-10-09T08:52:28.529Z"
   },
   {
    "duration": -117,
    "start_time": "2021-10-09T08:52:28.533Z"
   },
   {
    "duration": -120,
    "start_time": "2021-10-09T08:52:28.537Z"
   },
   {
    "duration": -122,
    "start_time": "2021-10-09T08:52:28.540Z"
   },
   {
    "duration": -123,
    "start_time": "2021-10-09T08:52:28.543Z"
   },
   {
    "duration": -124,
    "start_time": "2021-10-09T08:52:28.545Z"
   },
   {
    "duration": -128,
    "start_time": "2021-10-09T08:52:28.549Z"
   },
   {
    "duration": -130,
    "start_time": "2021-10-09T08:52:28.552Z"
   },
   {
    "duration": -131,
    "start_time": "2021-10-09T08:52:28.555Z"
   },
   {
    "duration": -133,
    "start_time": "2021-10-09T08:52:28.558Z"
   },
   {
    "duration": -134,
    "start_time": "2021-10-09T08:52:28.560Z"
   },
   {
    "duration": -136,
    "start_time": "2021-10-09T08:52:28.563Z"
   },
   {
    "duration": -144,
    "start_time": "2021-10-09T08:52:28.572Z"
   },
   {
    "duration": -146,
    "start_time": "2021-10-09T08:52:28.575Z"
   },
   {
    "duration": -148,
    "start_time": "2021-10-09T08:52:28.578Z"
   },
   {
    "duration": -150,
    "start_time": "2021-10-09T08:52:28.581Z"
   },
   {
    "duration": -152,
    "start_time": "2021-10-09T08:52:28.584Z"
   },
   {
    "duration": -153,
    "start_time": "2021-10-09T08:52:28.586Z"
   },
   {
    "duration": -155,
    "start_time": "2021-10-09T08:52:28.589Z"
   },
   {
    "duration": -157,
    "start_time": "2021-10-09T08:52:28.592Z"
   },
   {
    "duration": -159,
    "start_time": "2021-10-09T08:52:28.595Z"
   },
   {
    "duration": -161,
    "start_time": "2021-10-09T08:52:28.598Z"
   },
   {
    "duration": -163,
    "start_time": "2021-10-09T08:52:28.601Z"
   },
   {
    "duration": -164,
    "start_time": "2021-10-09T08:52:28.603Z"
   },
   {
    "duration": -166,
    "start_time": "2021-10-09T08:52:28.606Z"
   },
   {
    "duration": -168,
    "start_time": "2021-10-09T08:52:28.609Z"
   },
   {
    "duration": -169,
    "start_time": "2021-10-09T08:52:28.612Z"
   },
   {
    "duration": -171,
    "start_time": "2021-10-09T08:52:28.615Z"
   },
   {
    "duration": -172,
    "start_time": "2021-10-09T08:52:28.617Z"
   },
   {
    "duration": -174,
    "start_time": "2021-10-09T08:52:28.620Z"
   },
   {
    "duration": -176,
    "start_time": "2021-10-09T08:52:28.623Z"
   },
   {
    "duration": -177,
    "start_time": "2021-10-09T08:52:28.625Z"
   },
   {
    "duration": -179,
    "start_time": "2021-10-09T08:52:28.628Z"
   },
   {
    "duration": -181,
    "start_time": "2021-10-09T08:52:28.631Z"
   },
   {
    "duration": -183,
    "start_time": "2021-10-09T08:52:28.634Z"
   },
   {
    "duration": -185,
    "start_time": "2021-10-09T08:52:28.637Z"
   },
   {
    "duration": -186,
    "start_time": "2021-10-09T08:52:28.640Z"
   },
   {
    "duration": -189,
    "start_time": "2021-10-09T08:52:28.643Z"
   },
   {
    "duration": -189,
    "start_time": "2021-10-09T08:52:28.645Z"
   },
   {
    "duration": -191,
    "start_time": "2021-10-09T08:52:28.648Z"
   },
   {
    "duration": -193,
    "start_time": "2021-10-09T08:52:28.651Z"
   },
   {
    "duration": -195,
    "start_time": "2021-10-09T08:52:28.654Z"
   },
   {
    "duration": -197,
    "start_time": "2021-10-09T08:52:28.657Z"
   },
   {
    "duration": -198,
    "start_time": "2021-10-09T08:52:28.659Z"
   },
   {
    "duration": -200,
    "start_time": "2021-10-09T08:52:28.662Z"
   },
   {
    "duration": 215,
    "start_time": "2021-10-09T08:54:30.998Z"
   },
   {
    "duration": 24,
    "start_time": "2021-10-09T08:54:34.069Z"
   },
   {
    "duration": 5,
    "start_time": "2021-10-09T08:54:35.188Z"
   },
   {
    "duration": 13,
    "start_time": "2021-10-09T08:54:35.587Z"
   },
   {
    "duration": 12,
    "start_time": "2021-10-09T08:54:35.840Z"
   },
   {
    "duration": 8,
    "start_time": "2021-10-09T08:54:36.235Z"
   },
   {
    "duration": 4,
    "start_time": "2021-10-09T08:54:36.802Z"
   },
   {
    "duration": 8,
    "start_time": "2021-10-09T08:54:37.070Z"
   },
   {
    "duration": 20,
    "start_time": "2021-10-09T08:54:37.342Z"
   },
   {
    "duration": 11,
    "start_time": "2021-10-09T08:54:37.620Z"
   },
   {
    "duration": 8,
    "start_time": "2021-10-09T08:54:37.926Z"
   },
   {
    "duration": 8,
    "start_time": "2021-10-09T08:54:38.475Z"
   },
   {
    "duration": 23,
    "start_time": "2021-10-09T08:54:39.081Z"
   },
   {
    "duration": 7,
    "start_time": "2021-10-09T08:54:39.680Z"
   },
   {
    "duration": 20,
    "start_time": "2021-10-09T08:54:39.962Z"
   },
   {
    "duration": 7,
    "start_time": "2021-10-09T08:54:40.569Z"
   },
   {
    "duration": 9,
    "start_time": "2021-10-09T08:54:40.893Z"
   },
   {
    "duration": 12,
    "start_time": "2021-10-09T08:54:41.279Z"
   },
   {
    "duration": 4,
    "start_time": "2021-10-09T08:54:41.660Z"
   },
   {
    "duration": 20,
    "start_time": "2021-10-09T08:54:41.980Z"
   },
   {
    "duration": 7,
    "start_time": "2021-10-09T08:54:42.685Z"
   },
   {
    "duration": 6,
    "start_time": "2021-10-09T08:54:43.023Z"
   },
   {
    "duration": 13,
    "start_time": "2021-10-09T08:54:43.347Z"
   },
   {
    "duration": 6,
    "start_time": "2021-10-09T08:54:44.688Z"
   },
   {
    "duration": 22,
    "start_time": "2021-10-09T08:54:44.696Z"
   },
   {
    "duration": 590,
    "start_time": "2021-10-09T08:54:45.206Z"
   },
   {
    "duration": 7,
    "start_time": "2021-10-09T08:54:45.865Z"
   },
   {
    "duration": 557,
    "start_time": "2021-10-09T08:54:46.196Z"
   },
   {
    "duration": 7,
    "start_time": "2021-10-09T08:54:46.755Z"
   },
   {
    "duration": 8,
    "start_time": "2021-10-09T08:54:47.184Z"
   },
   {
    "duration": 734,
    "start_time": "2021-10-09T08:54:47.670Z"
   },
   {
    "duration": 4,
    "start_time": "2021-10-09T08:54:48.406Z"
   },
   {
    "duration": 880,
    "start_time": "2021-10-09T08:54:48.716Z"
   },
   {
    "duration": 6,
    "start_time": "2021-10-09T08:54:49.598Z"
   },
   {
    "duration": 2137,
    "start_time": "2021-10-09T08:54:49.826Z"
   },
   {
    "duration": 268,
    "start_time": "2021-10-09T08:54:51.965Z"
   },
   {
    "duration": 1016,
    "start_time": "2021-10-09T08:54:52.235Z"
   },
   {
    "duration": 13,
    "start_time": "2021-10-09T08:54:53.253Z"
   },
   {
    "duration": 5,
    "start_time": "2021-10-09T08:54:53.268Z"
   },
   {
    "duration": 85,
    "start_time": "2021-10-09T08:54:53.275Z"
   },
   {
    "duration": 56,
    "start_time": "2021-10-09T08:54:53.766Z"
   },
   {
    "duration": 62,
    "start_time": "2021-10-09T08:54:54.528Z"
   },
   {
    "duration": 4,
    "start_time": "2021-10-09T08:54:55.509Z"
   },
   {
    "duration": 13,
    "start_time": "2021-10-09T08:54:56.061Z"
   },
   {
    "duration": 4,
    "start_time": "2021-10-09T08:54:56.464Z"
   },
   {
    "duration": 4,
    "start_time": "2021-10-09T08:54:56.857Z"
   },
   {
    "duration": 5,
    "start_time": "2021-10-09T08:54:57.243Z"
   },
   {
    "duration": 12,
    "start_time": "2021-10-09T08:54:57.772Z"
   },
   {
    "duration": 5,
    "start_time": "2021-10-09T08:54:58.355Z"
   },
   {
    "duration": 4,
    "start_time": "2021-10-09T08:54:58.713Z"
   },
   {
    "duration": 4,
    "start_time": "2021-10-09T08:54:59.077Z"
   },
   {
    "duration": 1797,
    "start_time": "2021-10-10T21:00:40.769Z"
   },
   {
    "duration": 2073,
    "start_time": "2021-10-10T21:00:42.569Z"
   },
   {
    "duration": -418,
    "start_time": "2021-10-10T21:00:45.067Z"
   },
   {
    "duration": -427,
    "start_time": "2021-10-10T21:00:45.077Z"
   },
   {
    "duration": -436,
    "start_time": "2021-10-10T21:00:45.087Z"
   },
   {
    "duration": -443,
    "start_time": "2021-10-10T21:00:45.095Z"
   },
   {
    "duration": -452,
    "start_time": "2021-10-10T21:00:45.106Z"
   },
   {
    "duration": -460,
    "start_time": "2021-10-10T21:00:45.115Z"
   },
   {
    "duration": -468,
    "start_time": "2021-10-10T21:00:45.124Z"
   },
   {
    "duration": -475,
    "start_time": "2021-10-10T21:00:45.132Z"
   },
   {
    "duration": -482,
    "start_time": "2021-10-10T21:00:45.141Z"
   },
   {
    "duration": -489,
    "start_time": "2021-10-10T21:00:45.149Z"
   },
   {
    "duration": -505,
    "start_time": "2021-10-10T21:00:45.167Z"
   },
   {
    "duration": -513,
    "start_time": "2021-10-10T21:00:45.176Z"
   },
   {
    "duration": -519,
    "start_time": "2021-10-10T21:00:45.184Z"
   },
   {
    "duration": -526,
    "start_time": "2021-10-10T21:00:45.192Z"
   },
   {
    "duration": -533,
    "start_time": "2021-10-10T21:00:45.200Z"
   },
   {
    "duration": -541,
    "start_time": "2021-10-10T21:00:45.210Z"
   },
   {
    "duration": -548,
    "start_time": "2021-10-10T21:00:45.218Z"
   },
   {
    "duration": -554,
    "start_time": "2021-10-10T21:00:45.226Z"
   },
   {
    "duration": -561,
    "start_time": "2021-10-10T21:00:45.234Z"
   },
   {
    "duration": -567,
    "start_time": "2021-10-10T21:00:45.242Z"
   },
   {
    "duration": -575,
    "start_time": "2021-10-10T21:00:45.251Z"
   },
   {
    "duration": -580,
    "start_time": "2021-10-10T21:00:45.258Z"
   },
   {
    "duration": -598,
    "start_time": "2021-10-10T21:00:45.277Z"
   },
   {
    "duration": -605,
    "start_time": "2021-10-10T21:00:45.286Z"
   },
   {
    "duration": -614,
    "start_time": "2021-10-10T21:00:45.296Z"
   },
   {
    "duration": -621,
    "start_time": "2021-10-10T21:00:45.305Z"
   },
   {
    "duration": -628,
    "start_time": "2021-10-10T21:00:45.313Z"
   },
   {
    "duration": -635,
    "start_time": "2021-10-10T21:00:45.321Z"
   },
   {
    "duration": -642,
    "start_time": "2021-10-10T21:00:45.329Z"
   },
   {
    "duration": -635,
    "start_time": "2021-10-10T21:00:45.336Z"
   },
   {
    "duration": -643,
    "start_time": "2021-10-10T21:00:45.345Z"
   },
   {
    "duration": -649,
    "start_time": "2021-10-10T21:00:45.352Z"
   },
   {
    "duration": -656,
    "start_time": "2021-10-10T21:00:45.361Z"
   },
   {
    "duration": -662,
    "start_time": "2021-10-10T21:00:45.368Z"
   },
   {
    "duration": -678,
    "start_time": "2021-10-10T21:00:45.386Z"
   },
   {
    "duration": -685,
    "start_time": "2021-10-10T21:00:45.394Z"
   },
   {
    "duration": -693,
    "start_time": "2021-10-10T21:00:45.404Z"
   },
   {
    "duration": -703,
    "start_time": "2021-10-10T21:00:45.415Z"
   },
   {
    "duration": -710,
    "start_time": "2021-10-10T21:00:45.424Z"
   },
   {
    "duration": -717,
    "start_time": "2021-10-10T21:00:45.432Z"
   },
   {
    "duration": -728,
    "start_time": "2021-10-10T21:00:45.444Z"
   },
   {
    "duration": -735,
    "start_time": "2021-10-10T21:00:45.453Z"
   },
   {
    "duration": -742,
    "start_time": "2021-10-10T21:00:45.461Z"
   },
   {
    "duration": -749,
    "start_time": "2021-10-10T21:00:45.469Z"
   },
   {
    "duration": -755,
    "start_time": "2021-10-10T21:00:45.477Z"
   },
   {
    "duration": -774,
    "start_time": "2021-10-10T21:00:45.497Z"
   },
   {
    "duration": -781,
    "start_time": "2021-10-10T21:00:45.506Z"
   },
   {
    "duration": -788,
    "start_time": "2021-10-10T21:00:45.514Z"
   },
   {
    "duration": -796,
    "start_time": "2021-10-10T21:00:45.523Z"
   },
   {
    "duration": -801,
    "start_time": "2021-10-10T21:00:45.530Z"
   },
   {
    "duration": -812,
    "start_time": "2021-10-10T21:00:45.542Z"
   },
   {
    "duration": -820,
    "start_time": "2021-10-10T21:00:45.551Z"
   },
   {
    "duration": -826,
    "start_time": "2021-10-10T21:00:45.559Z"
   },
   {
    "duration": -833,
    "start_time": "2021-10-10T21:00:45.567Z"
   },
   {
    "duration": -839,
    "start_time": "2021-10-10T21:00:45.575Z"
   },
   {
    "duration": 51,
    "start_time": "2021-10-10T21:01:12.203Z"
   },
   {
    "duration": 1464,
    "start_time": "2021-10-10T21:01:17.409Z"
   },
   {
    "duration": 48,
    "start_time": "2021-10-10T21:01:18.876Z"
   },
   {
    "duration": 3,
    "start_time": "2021-10-10T21:01:18.927Z"
   },
   {
    "duration": 41,
    "start_time": "2021-10-10T21:01:18.932Z"
   },
   {
    "duration": 26,
    "start_time": "2021-10-10T21:01:18.976Z"
   },
   {
    "duration": 27,
    "start_time": "2021-10-10T21:01:19.004Z"
   },
   {
    "duration": 12,
    "start_time": "2021-10-10T21:01:19.034Z"
   },
   {
    "duration": 10,
    "start_time": "2021-10-10T21:01:19.050Z"
   },
   {
    "duration": 42,
    "start_time": "2021-10-10T21:01:19.063Z"
   },
   {
    "duration": 7,
    "start_time": "2021-10-10T21:01:19.107Z"
   },
   {
    "duration": 19,
    "start_time": "2021-10-10T21:01:19.117Z"
   },
   {
    "duration": 35,
    "start_time": "2021-10-10T21:01:19.139Z"
   },
   {
    "duration": 18,
    "start_time": "2021-10-10T21:01:19.200Z"
   },
   {
    "duration": 12,
    "start_time": "2021-10-10T21:01:19.221Z"
   },
   {
    "duration": 12,
    "start_time": "2021-10-10T21:01:19.235Z"
   },
   {
    "duration": 7,
    "start_time": "2021-10-10T21:01:19.249Z"
   },
   {
    "duration": 77,
    "start_time": "2021-10-10T21:01:19.259Z"
   },
   {
    "duration": 11,
    "start_time": "2021-10-10T21:01:19.339Z"
   },
   {
    "duration": 9,
    "start_time": "2021-10-10T21:01:19.352Z"
   },
   {
    "duration": 13,
    "start_time": "2021-10-10T21:01:19.401Z"
   },
   {
    "duration": 19,
    "start_time": "2021-10-10T21:01:19.417Z"
   },
   {
    "duration": 10,
    "start_time": "2021-10-10T21:01:19.439Z"
   },
   {
    "duration": 44,
    "start_time": "2021-10-10T21:01:19.456Z"
   },
   {
    "duration": 9,
    "start_time": "2021-10-10T21:01:19.504Z"
   },
   {
    "duration": 9,
    "start_time": "2021-10-10T21:01:19.515Z"
   },
   {
    "duration": 16,
    "start_time": "2021-10-10T21:01:19.527Z"
   },
   {
    "duration": 8,
    "start_time": "2021-10-10T21:01:19.545Z"
   },
   {
    "duration": 48,
    "start_time": "2021-10-10T21:01:19.555Z"
   },
   {
    "duration": 12,
    "start_time": "2021-10-10T21:01:19.605Z"
   },
   {
    "duration": 33,
    "start_time": "2021-10-10T21:01:19.619Z"
   },
   {
    "duration": 916,
    "start_time": "2021-10-10T21:01:19.654Z"
   },
   {
    "duration": 12,
    "start_time": "2021-10-10T21:01:20.572Z"
   },
   {
    "duration": 20,
    "start_time": "2021-10-10T21:01:20.587Z"
   },
   {
    "duration": 1437,
    "start_time": "2021-10-10T21:01:20.609Z"
   },
   {
    "duration": 13,
    "start_time": "2021-10-10T21:01:22.048Z"
   },
   {
    "duration": 40,
    "start_time": "2021-10-10T21:01:22.063Z"
   },
   {
    "duration": 907,
    "start_time": "2021-10-10T21:01:22.105Z"
   },
   {
    "duration": 6,
    "start_time": "2021-10-10T21:01:23.014Z"
   },
   {
    "duration": 1217,
    "start_time": "2021-10-10T21:01:23.022Z"
   },
   {
    "duration": 8,
    "start_time": "2021-10-10T21:01:24.242Z"
   },
   {
    "duration": 3326,
    "start_time": "2021-10-10T21:01:24.253Z"
   },
   {
    "duration": 388,
    "start_time": "2021-10-10T21:01:27.582Z"
   },
   {
    "duration": 1161,
    "start_time": "2021-10-10T21:01:27.973Z"
   },
   {
    "duration": 23,
    "start_time": "2021-10-10T21:01:29.137Z"
   },
   {
    "duration": 129,
    "start_time": "2021-10-10T21:01:29.162Z"
   },
   {
    "duration": 117,
    "start_time": "2021-10-10T21:01:29.301Z"
   },
   {
    "duration": 132,
    "start_time": "2021-10-10T21:01:29.420Z"
   },
   {
    "duration": 155,
    "start_time": "2021-10-10T21:01:29.555Z"
   },
   {
    "duration": 6,
    "start_time": "2021-10-10T21:01:29.713Z"
   },
   {
    "duration": 24,
    "start_time": "2021-10-10T21:01:29.722Z"
   },
   {
    "duration": 8,
    "start_time": "2021-10-10T21:01:29.748Z"
   },
   {
    "duration": 9,
    "start_time": "2021-10-10T21:01:29.758Z"
   },
   {
    "duration": 6,
    "start_time": "2021-10-10T21:01:29.802Z"
   },
   {
    "duration": 15,
    "start_time": "2021-10-10T21:01:29.811Z"
   },
   {
    "duration": 7,
    "start_time": "2021-10-10T21:01:29.829Z"
   },
   {
    "duration": 10,
    "start_time": "2021-10-10T21:01:29.839Z"
   },
   {
    "duration": 6,
    "start_time": "2021-10-10T21:01:29.852Z"
   }
  ],
  "kernelspec": {
   "display_name": "Python 3",
   "language": "python",
   "name": "python3"
  },
  "language_info": {
   "codemirror_mode": {
    "name": "ipython",
    "version": 3
   },
   "file_extension": ".py",
   "mimetype": "text/x-python",
   "name": "python",
   "nbconvert_exporter": "python",
   "pygments_lexer": "ipython3",
   "version": "3.7.10"
  },
  "toc": {
   "base_numbering": 1,
   "nav_menu": {},
   "number_sections": true,
   "sideBar": true,
   "skip_h1_title": true,
   "title_cell": "Содержание исследования",
   "title_sidebar": "Содержание",
   "toc_cell": true,
   "toc_position": {},
   "toc_section_display": true,
   "toc_window_display": false
  }
 },
 "nbformat": 4,
 "nbformat_minor": 5
}
